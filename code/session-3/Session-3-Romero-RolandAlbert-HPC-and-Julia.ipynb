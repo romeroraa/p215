{
 "cells": [
  {
   "cell_type": "markdown",
   "id": "8fada1c7",
   "metadata": {},
   "source": [
    "# Session 3: Types, type inference and stability"
   ]
  },
  {
   "cell_type": "markdown",
   "id": "3f94ac02",
   "metadata": {},
   "source": [
    "### OBJECTIVE: Demonstrate the dynamic programming features of Julia."
   ]
  },
  {
   "cell_type": "markdown",
   "id": "bdbf340c",
   "metadata": {},
   "source": [
    "#### KR1: Shown or demonstrated the hierarchy of Julia’s type hierarchy using the command subtypes(). Start from Number and use subtypes() to explore from  down to . Use supertype() to determine the  abstract type."
   ]
  },
  {
   "cell_type": "markdown",
   "id": "1d6a6b26",
   "metadata": {},
   "source": [
    "The root type is `Any`. When I use subtypes on it, it shows that it has 513 subtypes. \n",
    "\n",
    "Interestingly, `Any` is a subtype of `Any`."
   ]
  },
  {
   "cell_type": "code",
   "execution_count": 1,
   "id": "f34dc13e",
   "metadata": {},
   "outputs": [
    {
     "data": {
      "text/plain": [
       "513-element Vector{Any}:\n",
       " AbstractArray\n",
       " AbstractChannel\n",
       " AbstractChar\n",
       " AbstractDict\n",
       " AbstractDisplay\n",
       " AbstractMatch\n",
       " AbstractPattern\n",
       " AbstractSet\n",
       " AbstractString\n",
       " Any\n",
       " Base.AbstractBroadcasted\n",
       " Base.AbstractCartesianIndex\n",
       " Base.AbstractCmd\n",
       " ⋮\n",
       " Tuple\n",
       " Type\n",
       " TypeVar\n",
       " UndefInitializer\n",
       " Val\n",
       " Vararg\n",
       " VecElement\n",
       " VersionNumber\n",
       " WeakRef\n",
       " ZMQ.Context\n",
       " ZMQ.Socket\n",
       " ZMQ._Message"
      ]
     },
     "execution_count": 1,
     "metadata": {},
     "output_type": "execute_result"
    }
   ],
   "source": [
    "subtypes(Any)"
   ]
  },
  {
   "cell_type": "markdown",
   "id": "378787c2",
   "metadata": {},
   "source": [
    "so it makes sense that`Any` is also a supertype of `Any`"
   ]
  },
  {
   "cell_type": "code",
   "execution_count": 2,
   "id": "65359d5b",
   "metadata": {},
   "outputs": [
    {
     "data": {
      "text/plain": [
       "Any"
      ]
     },
     "execution_count": 2,
     "metadata": {},
     "output_type": "execute_result"
    }
   ],
   "source": [
    "supertype(Any)"
   ]
  },
  {
   "cell_type": "markdown",
   "id": "9f2e1fc6",
   "metadata": {},
   "source": [
    "I want to show the hierarchy starting from type `Number`. The output of supertype is a vector so I'll create a function to print all the branches from the type `Number`."
   ]
  },
  {
   "cell_type": "markdown",
   "id": "1ad55d27",
   "metadata": {},
   "source": [
    "I want the input of my function to be whatever `Any`/ `Number` is which is a `DataType`"
   ]
  },
  {
   "cell_type": "code",
   "execution_count": 3,
   "id": "39e18066",
   "metadata": {},
   "outputs": [
    {
     "data": {
      "text/plain": [
       "DataType"
      ]
     },
     "execution_count": 3,
     "metadata": {},
     "output_type": "execute_result"
    }
   ],
   "source": [
    "typeof(Number)"
   ]
  },
  {
   "cell_type": "markdown",
   "id": "94f9c0ec",
   "metadata": {},
   "source": [
    "`DataType` is not a subtype of `Any` and its type is still `DataType`.\n",
    "\n",
    "It is a subtype of `Type` which is a subtype of `Any`"
   ]
  },
  {
   "cell_type": "code",
   "execution_count": 4,
   "id": "5620c8d5",
   "metadata": {},
   "outputs": [
    {
     "data": {
      "text/plain": [
       "false"
      ]
     },
     "execution_count": 4,
     "metadata": {},
     "output_type": "execute_result"
    }
   ],
   "source": [
    "DataType in subtypes(Any)"
   ]
  },
  {
   "cell_type": "code",
   "execution_count": 5,
   "id": "1dcc0ed6",
   "metadata": {},
   "outputs": [
    {
     "data": {
      "text/plain": [
       "DataType"
      ]
     },
     "execution_count": 5,
     "metadata": {},
     "output_type": "execute_result"
    }
   ],
   "source": [
    "typeof(DataType)"
   ]
  },
  {
   "cell_type": "code",
   "execution_count": 6,
   "id": "237c8ce7",
   "metadata": {},
   "outputs": [
    {
     "data": {
      "text/plain": [
       "Type{T}"
      ]
     },
     "execution_count": 6,
     "metadata": {},
     "output_type": "execute_result"
    }
   ],
   "source": [
    "supertype(DataType)"
   ]
  },
  {
   "cell_type": "code",
   "execution_count": 7,
   "id": "814e2f1c",
   "metadata": {},
   "outputs": [
    {
     "data": {
      "text/plain": [
       "Type[]"
      ]
     },
     "execution_count": 7,
     "metadata": {},
     "output_type": "execute_result"
    }
   ],
   "source": [
    "subtypes(DataType)"
   ]
  },
  {
   "cell_type": "code",
   "execution_count": 8,
   "id": "f045cc9d",
   "metadata": {},
   "outputs": [
    {
     "data": {
      "text/plain": [
       "4-element Vector{Any}:\n",
       " Core.TypeofBottom\n",
       " DataType\n",
       " Union\n",
       " UnionAll"
      ]
     },
     "execution_count": 8,
     "metadata": {},
     "output_type": "execute_result"
    }
   ],
   "source": [
    "subtypes(Type)"
   ]
  },
  {
   "cell_type": "code",
   "execution_count": 9,
   "id": "86154b40",
   "metadata": {},
   "outputs": [
    {
     "data": {
      "text/plain": [
       "Any"
      ]
     },
     "execution_count": 9,
     "metadata": {},
     "output_type": "execute_result"
    }
   ],
   "source": [
    "supertype(Type)"
   ]
  },
  {
   "cell_type": "code",
   "execution_count": 10,
   "id": "9fb36938",
   "metadata": {},
   "outputs": [
    {
     "data": {
      "text/plain": [
       "0"
      ]
     },
     "execution_count": 10,
     "metadata": {},
     "output_type": "execute_result"
    }
   ],
   "source": [
    "length(subtypes(DataType))"
   ]
  },
  {
   "cell_type": "code",
   "execution_count": 11,
   "id": "4770afd8",
   "metadata": {},
   "outputs": [
    {
     "data": {
      "text/plain": [
       "Type{T}"
      ]
     },
     "execution_count": 11,
     "metadata": {},
     "output_type": "execute_result"
    }
   ],
   "source": [
    "supertype(DataType)"
   ]
  },
  {
   "cell_type": "markdown",
   "id": "b2ecb0c9",
   "metadata": {},
   "source": [
    "Now we want to explore the type hierarchy of `Number`. I made a function to make this a bit easier."
   ]
  },
  {
   "cell_type": "code",
   "execution_count": 12,
   "id": "5cb4557a",
   "metadata": {},
   "outputs": [
    {
     "data": {
      "text/plain": [
       "Any"
      ]
     },
     "execution_count": 12,
     "metadata": {},
     "output_type": "execute_result"
    }
   ],
   "source": [
    "supertype(Number)"
   ]
  },
  {
   "cell_type": "code",
   "execution_count": 13,
   "id": "97872c8c",
   "metadata": {},
   "outputs": [
    {
     "data": {
      "text/plain": [
       "get_hierarchy (generic function with 1 method)"
      ]
     },
     "execution_count": 13,
     "metadata": {},
     "output_type": "execute_result"
    }
   ],
   "source": [
    "function get_hierarchy(x; tabs::Integer=0)\n",
    "    println(repeat(\"    \", tabs), \"└--\", x)\n",
    "    st = subtypes(x)\n",
    "    \n",
    "    if length(st) > 0\n",
    "        for i in st\n",
    "            get_hierarchy(i, tabs=tabs+1)\n",
    "        end\n",
    "    end\n",
    "end"
   ]
  },
  {
   "cell_type": "code",
   "execution_count": 14,
   "id": "8f77f268",
   "metadata": {},
   "outputs": [
    {
     "name": "stdout",
     "output_type": "stream",
     "text": [
      "└--Number\n",
      "    └--Complex\n",
      "    └--Real\n",
      "        └--AbstractFloat\n",
      "            └--BigFloat\n",
      "            └--Float16\n",
      "            └--Float32\n",
      "            └--Float64\n",
      "        └--AbstractIrrational\n",
      "            └--Irrational\n",
      "        └--Integer\n",
      "            └--Bool\n",
      "            └--Signed\n",
      "                └--BigInt\n",
      "                └--Int128\n",
      "                └--Int16\n",
      "                └--Int32\n",
      "                └--Int64\n",
      "                └--Int8\n",
      "            └--Unsigned\n",
      "                └--UInt128\n",
      "                └--UInt16\n",
      "                └--UInt32\n",
      "                └--UInt64\n",
      "                └--UInt8\n",
      "        └--Rational\n"
     ]
    }
   ],
   "source": [
    "get_hierarchy(Number)"
   ]
  },
  {
   "cell_type": "markdown",
   "id": "0b452525",
   "metadata": {},
   "source": [
    "#### KR2: Implemented and used at least one own composite type via struct. Generate two more versions that are mutable type and type-parametrized of the custom-built type."
   ]
  },
  {
   "cell_type": "markdown",
   "id": "c31ffaa4",
   "metadata": {},
   "source": [
    "One thing I've used commonly is generating Gaussians so I'll make a composite type for that. Simplest way to describe them is just via mean / variance. I'll add N to pretend it's number of particles or something just so I can add an Int type that sort of makes sense."
   ]
  },
  {
   "cell_type": "code",
   "execution_count": 15,
   "id": "491c18e8",
   "metadata": {},
   "outputs": [],
   "source": [
    "struct gaussian\n",
    "    μ::Float64\n",
    "    σ::Float64\n",
    "    N::Int\n",
    "end"
   ]
  },
  {
   "cell_type": "code",
   "execution_count": 16,
   "id": "435645af",
   "metadata": {},
   "outputs": [
    {
     "data": {
      "text/plain": [
       "DataType"
      ]
     },
     "execution_count": 16,
     "metadata": {},
     "output_type": "execute_result"
    }
   ],
   "source": [
    "typeof(gaussian)"
   ]
  },
  {
   "cell_type": "code",
   "execution_count": 17,
   "id": "f22a76a3",
   "metadata": {},
   "outputs": [
    {
     "data": {
      "text/plain": [
       "gaussian(0.0, 1.0, 1000)"
      ]
     },
     "execution_count": 17,
     "metadata": {},
     "output_type": "execute_result"
    }
   ],
   "source": [
    "g = gaussian(0.0, 1.0, 1000)"
   ]
  },
  {
   "cell_type": "code",
   "execution_count": 18,
   "id": "49353e0b",
   "metadata": {},
   "outputs": [
    {
     "data": {
      "text/plain": [
       "gaussian"
      ]
     },
     "execution_count": 18,
     "metadata": {},
     "output_type": "execute_result"
    }
   ],
   "source": [
    "typeof(g)"
   ]
  },
  {
   "cell_type": "code",
   "execution_count": 19,
   "id": "8318b726",
   "metadata": {},
   "outputs": [
    {
     "name": "stdout",
     "output_type": "stream",
     "text": [
      "μ is 0.0, σ is 1.0, N is 1000"
     ]
    }
   ],
   "source": [
    "print(\"μ is $(g.μ), σ is $(g.σ), N is $(g.N)\")"
   ]
  },
  {
   "cell_type": "markdown",
   "id": "b3f7693b",
   "metadata": {},
   "source": [
    "Let's see if I can change the value once it's set. Since this isn't mutable, I'm assuming that I can't."
   ]
  },
  {
   "cell_type": "code",
   "execution_count": 20,
   "id": "8f39d7f2",
   "metadata": {},
   "outputs": [
    {
     "ename": "LoadError",
     "evalue": "setfield! immutable struct of type gaussian cannot be changed",
     "output_type": "error",
     "traceback": [
      "setfield! immutable struct of type gaussian cannot be changed",
      "",
      "Stacktrace:",
      " [1] setproperty!(x::gaussian, f::Symbol, v::Float64)",
      "   @ Base ./Base.jl:34",
      " [2] top-level scope",
      "   @ In[20]:1",
      " [3] eval",
      "   @ ./boot.jl:360 [inlined]",
      " [4] include_string(mapexpr::typeof(REPL.softscope), mod::Module, code::String, filename::String)",
      "   @ Base ./loading.jl:1094"
     ]
    }
   ],
   "source": [
    "g.μ = 0.5"
   ]
  },
  {
   "cell_type": "markdown",
   "id": "2866860c",
   "metadata": {},
   "source": [
    "Now I want to try to create a mutable struct"
   ]
  },
  {
   "cell_type": "code",
   "execution_count": 21,
   "id": "00c5c4a8",
   "metadata": {},
   "outputs": [],
   "source": [
    "mutable struct gaussian_mutable\n",
    "    μ::Float64\n",
    "    σ::Float64\n",
    "    N::Int\n",
    "end"
   ]
  },
  {
   "cell_type": "markdown",
   "id": "47745892",
   "metadata": {},
   "source": [
    "Seems like there's no distinction using `typeof` if it is mutable or not."
   ]
  },
  {
   "cell_type": "code",
   "execution_count": 22,
   "id": "c6b2e7d1",
   "metadata": {},
   "outputs": [
    {
     "data": {
      "text/plain": [
       "DataType"
      ]
     },
     "execution_count": 22,
     "metadata": {},
     "output_type": "execute_result"
    }
   ],
   "source": [
    "typeof(gaussian_mutable)"
   ]
  },
  {
   "cell_type": "code",
   "execution_count": 23,
   "id": "0de6a4af",
   "metadata": {},
   "outputs": [
    {
     "data": {
      "text/plain": [
       "gaussian_mutable(0.0, 1.0, 1000)"
      ]
     },
     "execution_count": 23,
     "metadata": {},
     "output_type": "execute_result"
    }
   ],
   "source": [
    "g_m = gaussian_mutable(0.0, 1.0, 1000)"
   ]
  },
  {
   "cell_type": "code",
   "execution_count": 24,
   "id": "ea0c5cb8",
   "metadata": {},
   "outputs": [
    {
     "data": {
      "text/plain": [
       "gaussian_mutable"
      ]
     },
     "execution_count": 24,
     "metadata": {},
     "output_type": "execute_result"
    }
   ],
   "source": [
    "typeof(g_m)"
   ]
  },
  {
   "cell_type": "markdown",
   "id": "b379645d",
   "metadata": {},
   "source": [
    "With a mutable structure, I can change the value!"
   ]
  },
  {
   "cell_type": "code",
   "execution_count": 25,
   "id": "81a2a2ec",
   "metadata": {},
   "outputs": [
    {
     "data": {
      "text/plain": [
       "0.0"
      ]
     },
     "execution_count": 25,
     "metadata": {},
     "output_type": "execute_result"
    }
   ],
   "source": [
    "g_m.μ"
   ]
  },
  {
   "cell_type": "code",
   "execution_count": 26,
   "id": "6e74f094",
   "metadata": {},
   "outputs": [
    {
     "data": {
      "text/plain": [
       "0.5"
      ]
     },
     "execution_count": 26,
     "metadata": {},
     "output_type": "execute_result"
    }
   ],
   "source": [
    "g_m.μ = 0.5"
   ]
  },
  {
   "cell_type": "code",
   "execution_count": 27,
   "id": "12fcc47a",
   "metadata": {},
   "outputs": [
    {
     "data": {
      "text/plain": [
       "gaussian_mutable(0.5, 1.0, 1000)"
      ]
     },
     "execution_count": 27,
     "metadata": {},
     "output_type": "execute_result"
    }
   ],
   "source": [
    "g_m"
   ]
  },
  {
   "cell_type": "markdown",
   "id": "5ad75347",
   "metadata": {},
   "source": [
    "Last I need to show a type parametrized struct"
   ]
  },
  {
   "cell_type": "code",
   "execution_count": 28,
   "id": "464db129",
   "metadata": {},
   "outputs": [],
   "source": [
    "struct gaussian_parametrized{T}\n",
    "    μ::T\n",
    "    σ::T\n",
    "    N::Int\n",
    "end"
   ]
  },
  {
   "cell_type": "markdown",
   "id": "fde717f2",
   "metadata": {},
   "source": [
    "Interestingly, when it's parametrized, its type is `UnionAll`"
   ]
  },
  {
   "cell_type": "code",
   "execution_count": 29,
   "id": "6a6dc627",
   "metadata": {},
   "outputs": [
    {
     "data": {
      "text/plain": [
       "UnionAll"
      ]
     },
     "execution_count": 29,
     "metadata": {},
     "output_type": "execute_result"
    }
   ],
   "source": [
    "typeof(gaussian_parametrized)"
   ]
  },
  {
   "cell_type": "markdown",
   "id": "3eb1a2ed",
   "metadata": {},
   "source": [
    "Here we see that the type depends on the inputs for each parameter"
   ]
  },
  {
   "cell_type": "code",
   "execution_count": 30,
   "id": "6fc5a99f",
   "metadata": {},
   "outputs": [
    {
     "data": {
      "text/plain": [
       "gaussian_parametrized{Float64}(0.0, 1.0, 1000)"
      ]
     },
     "execution_count": 30,
     "metadata": {},
     "output_type": "execute_result"
    }
   ],
   "source": [
    "gaussian_parametrized(0.0, 1.0, 1000)"
   ]
  },
  {
   "cell_type": "code",
   "execution_count": 31,
   "id": "d3194230",
   "metadata": {},
   "outputs": [
    {
     "data": {
      "text/plain": [
       "gaussian_parametrized{Int64}(0, 1, 1000)"
      ]
     },
     "execution_count": 31,
     "metadata": {},
     "output_type": "execute_result"
    }
   ],
   "source": [
    "gaussian_parametrized(0, 1, 1000)"
   ]
  },
  {
   "cell_type": "markdown",
   "id": "842d8dc9",
   "metadata": {},
   "source": [
    "Wondering what would happen if two are parametrized to `T` with different datatypes; Result: It doesn't work!"
   ]
  },
  {
   "cell_type": "code",
   "execution_count": 32,
   "id": "c2eb3944",
   "metadata": {},
   "outputs": [
    {
     "ename": "LoadError",
     "evalue": "MethodError: no method matching gaussian_parametrized(::Float64, ::Int64, ::Int64)\n\u001b[0mClosest candidates are:\n\u001b[0m  gaussian_parametrized(::T, \u001b[91m::T\u001b[39m, ::Int64) where T at In[28]:2",
     "output_type": "error",
     "traceback": [
      "MethodError: no method matching gaussian_parametrized(::Float64, ::Int64, ::Int64)\n\u001b[0mClosest candidates are:\n\u001b[0m  gaussian_parametrized(::T, \u001b[91m::T\u001b[39m, ::Int64) where T at In[28]:2",
      "",
      "Stacktrace:",
      " [1] top-level scope",
      "   @ In[32]:1",
      " [2] eval",
      "   @ ./boot.jl:360 [inlined]",
      " [3] include_string(mapexpr::typeof(REPL.softscope), mod::Module, code::String, filename::String)",
      "   @ Base ./loading.jl:1094"
     ]
    }
   ],
   "source": [
    "gaussian_parametrized(0.0, 1, 1000)"
   ]
  },
  {
   "cell_type": "code",
   "execution_count": 33,
   "id": "c6cc935d",
   "metadata": {},
   "outputs": [
    {
     "data": {
      "text/plain": [
       "gaussian_parametrized{Int64}(0, 1, 1000)"
      ]
     },
     "execution_count": 33,
     "metadata": {},
     "output_type": "execute_result"
    }
   ],
   "source": [
    "g_p = gaussian_parametrized(0, 1, 1000)"
   ]
  },
  {
   "cell_type": "markdown",
   "id": "a935e79a",
   "metadata": {},
   "source": [
    "I didn't declare this as a mutable struct so value shouldn't be changeable."
   ]
  },
  {
   "cell_type": "code",
   "execution_count": 34,
   "id": "6607ec18",
   "metadata": {},
   "outputs": [
    {
     "ename": "LoadError",
     "evalue": "setfield! immutable struct of type gaussian_parametrized cannot be changed",
     "output_type": "error",
     "traceback": [
      "setfield! immutable struct of type gaussian_parametrized cannot be changed",
      "",
      "Stacktrace:",
      " [1] setproperty!(x::gaussian_parametrized{Int64}, f::Symbol, v::Float64)",
      "   @ Base ./Base.jl:34",
      " [2] top-level scope",
      "   @ In[34]:1",
      " [3] eval",
      "   @ ./boot.jl:360 [inlined]",
      " [4] include_string(mapexpr::typeof(REPL.softscope), mod::Module, code::String, filename::String)",
      "   @ Base ./loading.jl:1094"
     ]
    }
   ],
   "source": [
    "g_p.μ = 0.0"
   ]
  },
  {
   "cell_type": "markdown",
   "id": "a09fc927",
   "metadata": {},
   "source": [
    "Lastly, let's make a parametrized, mutable struct."
   ]
  },
  {
   "cell_type": "code",
   "execution_count": 35,
   "id": "ea166b13",
   "metadata": {},
   "outputs": [],
   "source": [
    "mutable struct gaussian_parametrized_mutable{T}\n",
    "    μ::T\n",
    "    σ::T\n",
    "    N::Int\n",
    "end"
   ]
  },
  {
   "cell_type": "code",
   "execution_count": 36,
   "id": "d2c4594e",
   "metadata": {},
   "outputs": [
    {
     "data": {
      "text/plain": [
       "gaussian_parametrized_mutable{Int64}(0, 1, 1000)"
      ]
     },
     "execution_count": 36,
     "metadata": {},
     "output_type": "execute_result"
    }
   ],
   "source": [
    "g_pm = gaussian_parametrized_mutable(0, 1, 1000)"
   ]
  },
  {
   "cell_type": "code",
   "execution_count": 37,
   "id": "c442e6ae",
   "metadata": {},
   "outputs": [
    {
     "data": {
      "text/plain": [
       "gaussian_parametrized_mutable{Int64}(1, 1, 1000)"
      ]
     },
     "execution_count": 37,
     "metadata": {},
     "output_type": "execute_result"
    }
   ],
   "source": [
    "g_pm.μ = 1;\n",
    "g_pm"
   ]
  },
  {
   "cell_type": "markdown",
   "id": "2a0f05e4",
   "metadata": {},
   "source": [
    "It works! And just to see that when you change the value it should still be of the same type `T` that is initialized:"
   ]
  },
  {
   "cell_type": "code",
   "execution_count": 38,
   "id": "385fb314",
   "metadata": {},
   "outputs": [
    {
     "ename": "LoadError",
     "evalue": "InexactError: Int64(0.5)",
     "output_type": "error",
     "traceback": [
      "InexactError: Int64(0.5)",
      "",
      "Stacktrace:",
      " [1] Int64",
      "   @ ./float.jl:723 [inlined]",
      " [2] convert",
      "   @ ./number.jl:7 [inlined]",
      " [3] setproperty!(x::gaussian_parametrized_mutable{Int64}, f::Symbol, v::Float64)",
      "   @ Base ./Base.jl:34",
      " [4] top-level scope",
      "   @ In[38]:1",
      " [5] eval",
      "   @ ./boot.jl:360 [inlined]",
      " [6] include_string(mapexpr::typeof(REPL.softscope), mod::Module, code::String, filename::String)",
      "   @ Base ./loading.jl:1094"
     ]
    }
   ],
   "source": [
    "g_pm.μ = 0.5"
   ]
  },
  {
   "cell_type": "markdown",
   "id": "ec2f5a85",
   "metadata": {},
   "source": [
    "#### KR3: Demonstrated type inference in Julia. Generator expressions may be used for this."
   ]
  },
  {
   "cell_type": "markdown",
   "id": "6b9c1953",
   "metadata": {},
   "source": [
    "Following the example in the textbook, we can show type inference:"
   ]
  },
  {
   "cell_type": "markdown",
   "id": "c0df15ad",
   "metadata": {},
   "source": [
    "Julia knows when it's either an integer or a float:"
   ]
  },
  {
   "cell_type": "code",
   "execution_count": 39,
   "id": "3b5147a4",
   "metadata": {},
   "outputs": [
    {
     "data": {
      "text/plain": [
       "5-element Vector{Int64}:\n",
       " 1\n",
       " 2\n",
       " 3\n",
       " 4\n",
       " 5"
      ]
     },
     "execution_count": 39,
     "metadata": {},
     "output_type": "execute_result"
    }
   ],
   "source": [
    "[x for x in 1:5]"
   ]
  },
  {
   "cell_type": "code",
   "execution_count": 40,
   "id": "8c270c97",
   "metadata": {},
   "outputs": [
    {
     "data": {
      "text/plain": [
       "5-element Vector{Float64}:\n",
       " 1.0\n",
       " 2.0\n",
       " 3.0\n",
       " 4.0\n",
       " 5.0"
      ]
     },
     "execution_count": 40,
     "metadata": {},
     "output_type": "execute_result"
    }
   ],
   "source": [
    "[x for x in 1.0:5.0]"
   ]
  },
  {
   "cell_type": "markdown",
   "id": "48cbbeb4",
   "metadata": {},
   "source": [
    "Seems like float takes precedence (which makes sense)"
   ]
  },
  {
   "cell_type": "code",
   "execution_count": 41,
   "id": "f85e0a41",
   "metadata": {},
   "outputs": [
    {
     "data": {
      "text/plain": [
       "5-element Vector{Float64}:\n",
       " 1.0\n",
       " 2.0\n",
       " 3.0\n",
       " 4.0\n",
       " 5.0"
      ]
     },
     "execution_count": 41,
     "metadata": {},
     "output_type": "execute_result"
    }
   ],
   "source": [
    "[x for x in 1.0:5]"
   ]
  },
  {
   "cell_type": "code",
   "execution_count": 42,
   "id": "a8673879",
   "metadata": {},
   "outputs": [
    {
     "data": {
      "text/plain": [
       "5-element Vector{Float64}:\n",
       " 1.0\n",
       " 2.0\n",
       " 3.0\n",
       " 4.0\n",
       " 5.0"
      ]
     },
     "execution_count": 42,
     "metadata": {},
     "output_type": "execute_result"
    }
   ],
   "source": [
    "[x for x in 1:5.0]"
   ]
  },
  {
   "cell_type": "markdown",
   "id": "da8726a4",
   "metadata": {},
   "source": [
    "Also interesting to note that type inference can still be shown when adding things to the generator expression"
   ]
  },
  {
   "cell_type": "code",
   "execution_count": 43,
   "id": "6f0a4258",
   "metadata": {},
   "outputs": [
    {
     "data": {
      "text/plain": [
       "5-element Vector{Float64}:\n",
       " 2.0\n",
       " 3.0\n",
       " 4.0\n",
       " 5.0\n",
       " 6.0"
      ]
     },
     "execution_count": 43,
     "metadata": {},
     "output_type": "execute_result"
    }
   ],
   "source": [
    "[x + 1.0 for x in 1:5]"
   ]
  },
  {
   "cell_type": "code",
   "execution_count": 44,
   "id": "b6352f6c",
   "metadata": {},
   "outputs": [
    {
     "data": {
      "text/plain": [
       "5-element Vector{Int64}:\n",
       " 2\n",
       " 3\n",
       " 4\n",
       " 5\n",
       " 6"
      ]
     },
     "execution_count": 44,
     "metadata": {},
     "output_type": "execute_result"
    }
   ],
   "source": [
    "[x + 1 for x in 1:5]"
   ]
  },
  {
   "cell_type": "code",
   "execution_count": 45,
   "id": "f8b1f586",
   "metadata": {},
   "outputs": [
    {
     "data": {
      "text/plain": [
       "5-element Vector{Float64}:\n",
       " 2.0\n",
       " 3.0\n",
       " 4.0\n",
       " 5.0\n",
       " 6.0"
      ]
     },
     "execution_count": 45,
     "metadata": {},
     "output_type": "execute_result"
    }
   ],
   "source": [
    "[x + 1 for x in 1.0:5]"
   ]
  },
  {
   "cell_type": "markdown",
   "id": "e7832049",
   "metadata": {},
   "source": [
    "#### KR4: Created a function with inherent type-instability. Create a version of the function with fixed  issues."
   ]
  },
  {
   "cell_type": "markdown",
   "id": "b75f3f58",
   "metadata": {},
   "source": [
    "Doing something similar to the expression on the book `pos`, where\n",
    "\n",
    "$  pos(x)=\\begin{cases}\n",
    "    x, & \\text{if $x>0$}.\\\\\n",
    "    0, & \\text{otherwise}.\n",
    "  \\end{cases}\n",
    "  $\n"
   ]
  },
  {
   "cell_type": "markdown",
   "id": "9391329b",
   "metadata": {},
   "source": [
    "Learned something new from https://docs.julialang.org/en/v1/manual/control-flow/ which is the ternary operator and makes the function more compact code-wise."
   ]
  },
  {
   "cell_type": "code",
   "execution_count": 46,
   "id": "7463c85e",
   "metadata": {},
   "outputs": [
    {
     "data": {
      "text/plain": [
       "pos_unstable (generic function with 1 method)"
      ]
     },
     "execution_count": 46,
     "metadata": {},
     "output_type": "execute_result"
    }
   ],
   "source": [
    "pos_unstable(x) = x > 0 ? x : 0"
   ]
  },
  {
   "cell_type": "markdown",
   "id": "7313700d",
   "metadata": {},
   "source": [
    "According to the textbook, we can demonstrate type instability when the output of a function depends on the value of the input and not just its type.\n",
    "\n",
    "Consider float inputs, one positive and one negative. We can see that because of how we wrote the function, the output is of type Int64 no matter the type of the input if the input is a number less than or equal to 0."
   ]
  },
  {
   "cell_type": "code",
   "execution_count": 47,
   "id": "e2d4e42c",
   "metadata": {},
   "outputs": [
    {
     "data": {
      "text/plain": [
       "Float64"
      ]
     },
     "execution_count": 47,
     "metadata": {},
     "output_type": "execute_result"
    }
   ],
   "source": [
    "typeof(42.0)"
   ]
  },
  {
   "cell_type": "code",
   "execution_count": 48,
   "id": "4ce46839",
   "metadata": {},
   "outputs": [
    {
     "data": {
      "text/plain": [
       "Float64"
      ]
     },
     "execution_count": 48,
     "metadata": {},
     "output_type": "execute_result"
    }
   ],
   "source": [
    "typeof(-42.0)"
   ]
  },
  {
   "cell_type": "code",
   "execution_count": 49,
   "id": "3d594930",
   "metadata": {},
   "outputs": [
    {
     "data": {
      "text/plain": [
       "42.0"
      ]
     },
     "execution_count": 49,
     "metadata": {},
     "output_type": "execute_result"
    }
   ],
   "source": [
    "pos_unstable(42.0)"
   ]
  },
  {
   "cell_type": "code",
   "execution_count": 50,
   "id": "525e8f91",
   "metadata": {},
   "outputs": [
    {
     "data": {
      "text/plain": [
       "Float64"
      ]
     },
     "execution_count": 50,
     "metadata": {},
     "output_type": "execute_result"
    }
   ],
   "source": [
    "typeof(pos_unstable(42.0))"
   ]
  },
  {
   "cell_type": "code",
   "execution_count": 51,
   "id": "0428ec73",
   "metadata": {},
   "outputs": [
    {
     "data": {
      "text/plain": [
       "0"
      ]
     },
     "execution_count": 51,
     "metadata": {},
     "output_type": "execute_result"
    }
   ],
   "source": [
    "pos_unstable(-42.0)"
   ]
  },
  {
   "cell_type": "code",
   "execution_count": 52,
   "id": "1eff6150",
   "metadata": {},
   "outputs": [
    {
     "data": {
      "text/plain": [
       "Int64"
      ]
     },
     "execution_count": 52,
     "metadata": {},
     "output_type": "execute_result"
    }
   ],
   "source": [
    "typeof(pos_unstable(-42.0))"
   ]
  },
  {
   "cell_type": "markdown",
   "id": "dfd5285b",
   "metadata": {},
   "source": [
    "We can fix this  by returning a 0 with the same type as the input"
   ]
  },
  {
   "cell_type": "code",
   "execution_count": 53,
   "id": "f415056b",
   "metadata": {},
   "outputs": [
    {
     "data": {
      "text/plain": [
       "pos_stable (generic function with 1 method)"
      ]
     },
     "execution_count": 53,
     "metadata": {},
     "output_type": "execute_result"
    }
   ],
   "source": [
    "pos_stable(x) = x > 0 ? x : zero(x)"
   ]
  },
  {
   "cell_type": "code",
   "execution_count": 54,
   "id": "01eebaf6",
   "metadata": {},
   "outputs": [
    {
     "data": {
      "text/plain": [
       "Float64"
      ]
     },
     "execution_count": 54,
     "metadata": {},
     "output_type": "execute_result"
    }
   ],
   "source": [
    "typeof(pos_stable(42.0))"
   ]
  },
  {
   "cell_type": "code",
   "execution_count": 55,
   "id": "b2ed1e83",
   "metadata": {},
   "outputs": [
    {
     "data": {
      "text/plain": [
       "Float64"
      ]
     },
     "execution_count": 55,
     "metadata": {},
     "output_type": "execute_result"
    }
   ],
   "source": [
    "typeof(pos_stable(-42.0))"
   ]
  },
  {
   "cell_type": "code",
   "execution_count": 56,
   "id": "4236fe10",
   "metadata": {},
   "outputs": [
    {
     "data": {
      "text/plain": [
       "Int64"
      ]
     },
     "execution_count": 56,
     "metadata": {},
     "output_type": "execute_result"
    }
   ],
   "source": [
    "typeof(pos_unstable(-42))"
   ]
  },
  {
   "cell_type": "markdown",
   "id": "19d641fd",
   "metadata": {},
   "source": [
    "#### KR5: Demonstration of how @code_warntype can be useful in detecting type-instability ."
   ]
  },
  {
   "cell_type": "markdown",
   "id": "d2c66f47",
   "metadata": {},
   "source": [
    "For type unstable functions with a possible float input and int output, there's a red warning that highlights possible type-instability when using `@code_warntype`, regardless of the input value."
   ]
  },
  {
   "cell_type": "code",
   "execution_count": 57,
   "id": "583c13a3",
   "metadata": {},
   "outputs": [
    {
     "name": "stdout",
     "output_type": "stream",
     "text": [
      "Variables\n",
      "  #self#\u001b[36m::Core.Const(pos_unstable)\u001b[39m\n",
      "  x\u001b[36m::Float64\u001b[39m\n",
      "\n",
      "Body\u001b[91m\u001b[1m::Union{Float64, Int64}\u001b[22m\u001b[39m\n",
      "\u001b[90m1 ─\u001b[39m %1 = (x > 0)\u001b[36m::Bool\u001b[39m\n",
      "\u001b[90m└──\u001b[39m      goto #3 if not %1\n",
      "\u001b[90m2 ─\u001b[39m      return x\n",
      "\u001b[90m3 ─\u001b[39m      return 0\n"
     ]
    }
   ],
   "source": [
    "@code_warntype pos_unstable(42.0)"
   ]
  },
  {
   "cell_type": "code",
   "execution_count": 58,
   "id": "161f9a74",
   "metadata": {},
   "outputs": [
    {
     "name": "stdout",
     "output_type": "stream",
     "text": [
      "Variables\n",
      "  #self#\u001b[36m::Core.Const(pos_unstable)\u001b[39m\n",
      "  x\u001b[36m::Float64\u001b[39m\n",
      "\n",
      "Body\u001b[91m\u001b[1m::Union{Float64, Int64}\u001b[22m\u001b[39m\n",
      "\u001b[90m1 ─\u001b[39m %1 = (x > 0)\u001b[36m::Bool\u001b[39m\n",
      "\u001b[90m└──\u001b[39m      goto #3 if not %1\n",
      "\u001b[90m2 ─\u001b[39m      return x\n",
      "\u001b[90m3 ─\u001b[39m      return 0\n"
     ]
    }
   ],
   "source": [
    "@code_warntype pos_unstable(-42.0)"
   ]
  },
  {
   "cell_type": "markdown",
   "id": "3e63a945",
   "metadata": {},
   "source": [
    "For the same unstable code, if the input is also an int, there is no red \"warning\"."
   ]
  },
  {
   "cell_type": "code",
   "execution_count": 59,
   "id": "03f02f9f",
   "metadata": {},
   "outputs": [
    {
     "name": "stdout",
     "output_type": "stream",
     "text": [
      "Variables\n",
      "  #self#\u001b[36m::Core.Const(pos_unstable)\u001b[39m\n",
      "  x\u001b[36m::Int64\u001b[39m\n",
      "\n",
      "Body\u001b[36m::Int64\u001b[39m\n",
      "\u001b[90m1 ─\u001b[39m %1 = (x > 0)\u001b[36m::Bool\u001b[39m\n",
      "\u001b[90m└──\u001b[39m      goto #3 if not %1\n",
      "\u001b[90m2 ─\u001b[39m      return x\n",
      "\u001b[90m3 ─\u001b[39m      return 0\n"
     ]
    }
   ],
   "source": [
    "@code_warntype pos_unstable(42)"
   ]
  },
  {
   "cell_type": "code",
   "execution_count": 60,
   "id": "e177768d",
   "metadata": {},
   "outputs": [
    {
     "name": "stdout",
     "output_type": "stream",
     "text": [
      "Variables\n",
      "  #self#\u001b[36m::Core.Const(pos_unstable)\u001b[39m\n",
      "  x\u001b[36m::Int64\u001b[39m\n",
      "\n",
      "Body\u001b[36m::Int64\u001b[39m\n",
      "\u001b[90m1 ─\u001b[39m %1 = (x > 0)\u001b[36m::Bool\u001b[39m\n",
      "\u001b[90m└──\u001b[39m      goto #3 if not %1\n",
      "\u001b[90m2 ─\u001b[39m      return x\n",
      "\u001b[90m3 ─\u001b[39m      return 0\n"
     ]
    }
   ],
   "source": [
    "@code_warntype pos_unstable(-42)"
   ]
  },
  {
   "cell_type": "markdown",
   "id": "5fcf07d4",
   "metadata": {},
   "source": [
    "Further highlighting the that when the function does not have type-instability, there is no warning for `@code_warntype` and the type or value of the inputs don't really change the output at all."
   ]
  },
  {
   "cell_type": "code",
   "execution_count": 61,
   "id": "bc32506c",
   "metadata": {},
   "outputs": [
    {
     "name": "stdout",
     "output_type": "stream",
     "text": [
      "Variables\n",
      "  #self#\u001b[36m::Core.Const(pos_stable)\u001b[39m\n",
      "  x\u001b[36m::Float64\u001b[39m\n",
      "\n",
      "Body\u001b[36m::Float64\u001b[39m\n",
      "\u001b[90m1 ─\u001b[39m %1 = (x > 0)\u001b[36m::Bool\u001b[39m\n",
      "\u001b[90m└──\u001b[39m      goto #3 if not %1\n",
      "\u001b[90m2 ─\u001b[39m      return x\n",
      "\u001b[90m3 ─\u001b[39m %4 = Main.zero(x)\u001b[36m::Core.Const(0.0)\u001b[39m\n",
      "\u001b[90m└──\u001b[39m      return %4\n"
     ]
    }
   ],
   "source": [
    "@code_warntype pos_stable(-42.0)"
   ]
  },
  {
   "cell_type": "code",
   "execution_count": 62,
   "id": "9902f4a4",
   "metadata": {},
   "outputs": [
    {
     "name": "stdout",
     "output_type": "stream",
     "text": [
      "Variables\n",
      "  #self#\u001b[36m::Core.Const(pos_stable)\u001b[39m\n",
      "  x\u001b[36m::Int64\u001b[39m\n",
      "\n",
      "Body\u001b[36m::Int64\u001b[39m\n",
      "\u001b[90m1 ─\u001b[39m %1 = (x > 0)\u001b[36m::Bool\u001b[39m\n",
      "\u001b[90m└──\u001b[39m      goto #3 if not %1\n",
      "\u001b[90m2 ─\u001b[39m      return x\n",
      "\u001b[90m3 ─\u001b[39m %4 = Main.zero(x)\u001b[36m::Core.Const(0)\u001b[39m\n",
      "\u001b[90m└──\u001b[39m      return %4\n"
     ]
    }
   ],
   "source": [
    "@code_warntype pos_stable(-42)"
   ]
  },
  {
   "cell_type": "code",
   "execution_count": 63,
   "id": "acd9f20d",
   "metadata": {},
   "outputs": [
    {
     "name": "stdout",
     "output_type": "stream",
     "text": [
      "Variables\n",
      "  #self#\u001b[36m::Core.Const(pos_stable)\u001b[39m\n",
      "  x\u001b[36m::Float64\u001b[39m\n",
      "\n",
      "Body\u001b[36m::Float64\u001b[39m\n",
      "\u001b[90m1 ─\u001b[39m %1 = (x > 0)\u001b[36m::Bool\u001b[39m\n",
      "\u001b[90m└──\u001b[39m      goto #3 if not %1\n",
      "\u001b[90m2 ─\u001b[39m      return x\n",
      "\u001b[90m3 ─\u001b[39m %4 = Main.zero(x)\u001b[36m::Core.Const(0.0)\u001b[39m\n",
      "\u001b[90m└──\u001b[39m      return %4\n"
     ]
    }
   ],
   "source": [
    "@code_warntype pos_stable(42.0)"
   ]
  },
  {
   "cell_type": "code",
   "execution_count": 64,
   "id": "d7326449",
   "metadata": {},
   "outputs": [
    {
     "name": "stdout",
     "output_type": "stream",
     "text": [
      "Variables\n",
      "  #self#\u001b[36m::Core.Const(pos_stable)\u001b[39m\n",
      "  x\u001b[36m::Float64\u001b[39m\n",
      "\n",
      "Body\u001b[36m::Float64\u001b[39m\n",
      "\u001b[90m1 ─\u001b[39m %1 = (x > 0)\u001b[36m::Bool\u001b[39m\n",
      "\u001b[90m└──\u001b[39m      goto #3 if not %1\n",
      "\u001b[90m2 ─\u001b[39m      return x\n",
      "\u001b[90m3 ─\u001b[39m %4 = Main.zero(x)\u001b[36m::Core.Const(0.0)\u001b[39m\n",
      "\u001b[90m└──\u001b[39m      return %4\n"
     ]
    }
   ],
   "source": [
    "@code_warntype pos_stable(42.0)"
   ]
  },
  {
   "cell_type": "markdown",
   "id": "40fa2d66",
   "metadata": {},
   "source": [
    "#### KR6: Demonstration of how Arrays containing ambiguous/abstract types often results to slow execution of codes. The BenchmarkTools may be useful in this part."
   ]
  },
  {
   "cell_type": "code",
   "execution_count": 65,
   "id": "5396c3cc",
   "metadata": {},
   "outputs": [],
   "source": [
    "using BenchmarkTools"
   ]
  },
  {
   "cell_type": "markdown",
   "id": "71f7773a",
   "metadata": {},
   "source": [
    "We know that `Number` is a more abstract type and `Int64` is a more specific type so we can compare two arrays with different declared types."
   ]
  },
  {
   "cell_type": "code",
   "execution_count": 66,
   "id": "563aac4d",
   "metadata": {},
   "outputs": [
    {
     "data": {
      "text/plain": [
       "4-element Vector{Number}:\n",
       " 1\n",
       " 2\n",
       " 3\n",
       " 4"
      ]
     },
     "execution_count": 66,
     "metadata": {},
     "output_type": "execute_result"
    }
   ],
   "source": [
    "abstract_ = Number[1,2,3,4]"
   ]
  },
  {
   "cell_type": "code",
   "execution_count": 67,
   "id": "d0b47d0a",
   "metadata": {},
   "outputs": [
    {
     "data": {
      "text/plain": [
       "4-element Vector{Int64}:\n",
       " 1\n",
       " 2\n",
       " 3\n",
       " 4"
      ]
     },
     "execution_count": 67,
     "metadata": {},
     "output_type": "execute_result"
    }
   ],
   "source": [
    "concrete = Int64[1,2,3,4]"
   ]
  },
  {
   "cell_type": "markdown",
   "id": "ed021757",
   "metadata": {},
   "source": [
    "The simplest thing to do would be to just get the sum of the contents of both arrays and even if there are only four elements in each, we can see the speed improvement from the benchmarks of around 3x for the example whent the variable type is not abstract."
   ]
  },
  {
   "cell_type": "code",
   "execution_count": 68,
   "id": "868475bc",
   "metadata": {},
   "outputs": [
    {
     "data": {
      "text/plain": [
       "BenchmarkTools.Trial: 10000 samples with 957 evaluations.\n",
       " Range \u001b[90m(\u001b[39m\u001b[36m\u001b[1mmin\u001b[22m\u001b[39m … \u001b[35mmax\u001b[39m\u001b[90m):  \u001b[39m\u001b[36m\u001b[1m92.258 ns\u001b[22m\u001b[39m … \u001b[35m220.446 ns\u001b[39m  \u001b[90m┊\u001b[39m GC \u001b[90m(\u001b[39mmin … max\u001b[90m): \u001b[39m0.00% … 0.00%\n",
       " Time  \u001b[90m(\u001b[39m\u001b[34m\u001b[1mmedian\u001b[22m\u001b[39m\u001b[90m):     \u001b[39m\u001b[34m\u001b[1m92.698 ns               \u001b[22m\u001b[39m\u001b[90m┊\u001b[39m GC \u001b[90m(\u001b[39mmedian\u001b[90m):    \u001b[39m0.00%\n",
       " Time  \u001b[90m(\u001b[39m\u001b[32m\u001b[1mmean\u001b[22m\u001b[39m ± \u001b[32mσ\u001b[39m\u001b[90m):   \u001b[39m\u001b[32m\u001b[1m92.951 ns\u001b[22m\u001b[39m ± \u001b[32m  3.206 ns\u001b[39m  \u001b[90m┊\u001b[39m GC \u001b[90m(\u001b[39mmean ± σ\u001b[90m):  \u001b[39m0.00% ± 0.00%\n",
       "\n",
       "  \u001b[39m \u001b[39m▄\u001b[39m▆\u001b[34m█\u001b[39m\u001b[39m▄\u001b[32m \u001b[39m\u001b[39m \u001b[39m \u001b[39m \u001b[39m \u001b[39m▂\u001b[39m \u001b[39m \u001b[39m \u001b[39m \u001b[39m \u001b[39m \u001b[39m \u001b[39m \u001b[39m \u001b[39m \u001b[39m \u001b[39m \u001b[39m \u001b[39m \u001b[39m \u001b[39m \u001b[39m \u001b[39m \u001b[39m \u001b[39m \u001b[39m \u001b[39m \u001b[39m \u001b[39m \u001b[39m \u001b[39m \u001b[39m \u001b[39m \u001b[39m \u001b[39m \u001b[39m \u001b[39m \u001b[39m \u001b[39m \u001b[39m \u001b[39m \u001b[39m \u001b[39m \u001b[39m \u001b[39m \u001b[39m \u001b[39m \u001b[39m \u001b[39m \u001b[39m \u001b[39m \u001b[39m \u001b[39m \u001b[39m \u001b[39m \u001b[39m▁\n",
       "  \u001b[39m▅\u001b[39m█\u001b[39m█\u001b[34m█\u001b[39m\u001b[39m█\u001b[32m▆\u001b[39m\u001b[39m▅\u001b[39m▅\u001b[39m▆\u001b[39m█\u001b[39m█\u001b[39m▇\u001b[39m▃\u001b[39m▅\u001b[39m▃\u001b[39m▆\u001b[39m▇\u001b[39m▇\u001b[39m▆\u001b[39m▅\u001b[39m▄\u001b[39m▃\u001b[39m▁\u001b[39m▃\u001b[39m▃\u001b[39m▃\u001b[39m▄\u001b[39m▁\u001b[39m▁\u001b[39m▁\u001b[39m▁\u001b[39m▁\u001b[39m▃\u001b[39m▁\u001b[39m▁\u001b[39m▁\u001b[39m▁\u001b[39m▃\u001b[39m▁\u001b[39m▁\u001b[39m▁\u001b[39m▁\u001b[39m▁\u001b[39m▁\u001b[39m▁\u001b[39m▁\u001b[39m▁\u001b[39m▁\u001b[39m▁\u001b[39m▁\u001b[39m▁\u001b[39m▁\u001b[39m▁\u001b[39m▁\u001b[39m▁\u001b[39m▁\u001b[39m▁\u001b[39m▁\u001b[39m▄\u001b[39m▆\u001b[39m \u001b[39m█\n",
       "  92.3 ns\u001b[90m       \u001b[39m\u001b[90mHistogram: \u001b[39m\u001b[90m\u001b[1mlog(\u001b[22m\u001b[39m\u001b[90mfrequency\u001b[39m\u001b[90m\u001b[1m)\u001b[22m\u001b[39m\u001b[90m by time\u001b[39m       100 ns \u001b[0m\u001b[1m<\u001b[22m\n",
       "\n",
       " Memory estimate\u001b[90m: \u001b[39m\u001b[33m0 bytes\u001b[39m, allocs estimate\u001b[90m: \u001b[39m\u001b[33m0\u001b[39m."
      ]
     },
     "execution_count": 68,
     "metadata": {},
     "output_type": "execute_result"
    }
   ],
   "source": [
    "@benchmark sum(abstract_)"
   ]
  },
  {
   "cell_type": "code",
   "execution_count": 69,
   "id": "fe5ffbef",
   "metadata": {},
   "outputs": [
    {
     "data": {
      "text/plain": [
       "BenchmarkTools.Trial: 10000 samples with 996 evaluations.\n",
       " Range \u001b[90m(\u001b[39m\u001b[36m\u001b[1mmin\u001b[22m\u001b[39m … \u001b[35mmax\u001b[39m\u001b[90m):  \u001b[39m\u001b[36m\u001b[1m24.889 ns\u001b[22m\u001b[39m … \u001b[35m114.379 ns\u001b[39m  \u001b[90m┊\u001b[39m GC \u001b[90m(\u001b[39mmin … max\u001b[90m): \u001b[39m0.00% … 0.00%\n",
       " Time  \u001b[90m(\u001b[39m\u001b[34m\u001b[1mmedian\u001b[22m\u001b[39m\u001b[90m):     \u001b[39m\u001b[34m\u001b[1m24.917 ns               \u001b[22m\u001b[39m\u001b[90m┊\u001b[39m GC \u001b[90m(\u001b[39mmedian\u001b[90m):    \u001b[39m0.00%\n",
       " Time  \u001b[90m(\u001b[39m\u001b[32m\u001b[1mmean\u001b[22m\u001b[39m ± \u001b[32mσ\u001b[39m\u001b[90m):   \u001b[39m\u001b[32m\u001b[1m25.060 ns\u001b[22m\u001b[39m ± \u001b[32m  1.458 ns\u001b[39m  \u001b[90m┊\u001b[39m GC \u001b[90m(\u001b[39mmean ± σ\u001b[90m):  \u001b[39m0.00% ± 0.00%\n",
       "\n",
       "  \u001b[39m█\u001b[34m▅\u001b[39m\u001b[39m \u001b[39m \u001b[32m \u001b[39m\u001b[39m \u001b[39m \u001b[39m \u001b[39m \u001b[39m \u001b[39m \u001b[39m \u001b[39m \u001b[39m \u001b[39m \u001b[39m \u001b[39m \u001b[39m \u001b[39m \u001b[39m \u001b[39m \u001b[39m \u001b[39m \u001b[39m \u001b[39m \u001b[39m \u001b[39m \u001b[39m \u001b[39m \u001b[39m \u001b[39m \u001b[39m \u001b[39m \u001b[39m \u001b[39m \u001b[39m \u001b[39m \u001b[39m \u001b[39m \u001b[39m \u001b[39m \u001b[39m \u001b[39m \u001b[39m \u001b[39m \u001b[39m \u001b[39m \u001b[39m \u001b[39m \u001b[39m \u001b[39m \u001b[39m \u001b[39m \u001b[39m \u001b[39m \u001b[39m \u001b[39m \u001b[39m \u001b[39m \u001b[39m \u001b[39m \u001b[39m▁\n",
       "  \u001b[39m█\u001b[34m█\u001b[39m\u001b[39m▄\u001b[39m▁\u001b[32m▁\u001b[39m\u001b[39m▁\u001b[39m▁\u001b[39m▁\u001b[39m▁\u001b[39m▁\u001b[39m▁\u001b[39m▁\u001b[39m▁\u001b[39m▁\u001b[39m▁\u001b[39m▁\u001b[39m▁\u001b[39m▁\u001b[39m▁\u001b[39m▁\u001b[39m▁\u001b[39m▁\u001b[39m▁\u001b[39m▁\u001b[39m▁\u001b[39m▁\u001b[39m▁\u001b[39m▁\u001b[39m▁\u001b[39m▁\u001b[39m▁\u001b[39m▁\u001b[39m▁\u001b[39m▁\u001b[39m▁\u001b[39m▁\u001b[39m▁\u001b[39m▃\u001b[39m▁\u001b[39m▁\u001b[39m▃\u001b[39m▃\u001b[39m▄\u001b[39m▁\u001b[39m▃\u001b[39m▃\u001b[39m▄\u001b[39m▄\u001b[39m█\u001b[39m▇\u001b[39m▆\u001b[39m▆\u001b[39m▆\u001b[39m▆\u001b[39m▅\u001b[39m▆\u001b[39m▆\u001b[39m▆\u001b[39m▅\u001b[39m▅\u001b[39m \u001b[39m█\n",
       "  24.9 ns\u001b[90m       \u001b[39m\u001b[90mHistogram: \u001b[39m\u001b[90m\u001b[1mlog(\u001b[22m\u001b[39m\u001b[90mfrequency\u001b[39m\u001b[90m\u001b[1m)\u001b[22m\u001b[39m\u001b[90m by time\u001b[39m      27.4 ns \u001b[0m\u001b[1m<\u001b[22m\n",
       "\n",
       " Memory estimate\u001b[90m: \u001b[39m\u001b[33m0 bytes\u001b[39m, allocs estimate\u001b[90m: \u001b[39m\u001b[33m0\u001b[39m."
      ]
     },
     "execution_count": 69,
     "metadata": {},
     "output_type": "execute_result"
    }
   ],
   "source": [
    "@benchmark sum(concrete)"
   ]
  },
  {
   "cell_type": "markdown",
   "id": "c397dea4",
   "metadata": {},
   "source": [
    "Also wanted to test if just generating a struct would have speed improvements by specifying types."
   ]
  },
  {
   "cell_type": "code",
   "execution_count": 70,
   "id": "c77bbe56",
   "metadata": {},
   "outputs": [],
   "source": [
    "struct point\n",
    "    x::Float64\n",
    "    y::Float64\n",
    "end"
   ]
  },
  {
   "cell_type": "code",
   "execution_count": 71,
   "id": "4803ee49",
   "metadata": {},
   "outputs": [
    {
     "data": {
      "text/plain": [
       "BenchmarkTools.Trial: 10000 samples with 998 evaluations.\n",
       " Range \u001b[90m(\u001b[39m\u001b[36m\u001b[1mmin\u001b[22m\u001b[39m … \u001b[35mmax\u001b[39m\u001b[90m):  \u001b[39m\u001b[36m\u001b[1m14.729 ns\u001b[22m\u001b[39m … \u001b[35m167.199 ns\u001b[39m  \u001b[90m┊\u001b[39m GC \u001b[90m(\u001b[39mmin … max\u001b[90m): \u001b[39m0.00% … 0.00%\n",
       " Time  \u001b[90m(\u001b[39m\u001b[34m\u001b[1mmedian\u001b[22m\u001b[39m\u001b[90m):     \u001b[39m\u001b[34m\u001b[1m15.615 ns               \u001b[22m\u001b[39m\u001b[90m┊\u001b[39m GC \u001b[90m(\u001b[39mmedian\u001b[90m):    \u001b[39m0.00%\n",
       " Time  \u001b[90m(\u001b[39m\u001b[32m\u001b[1mmean\u001b[22m\u001b[39m ± \u001b[32mσ\u001b[39m\u001b[90m):   \u001b[39m\u001b[32m\u001b[1m16.105 ns\u001b[22m\u001b[39m ± \u001b[32m  2.395 ns\u001b[39m  \u001b[90m┊\u001b[39m GC \u001b[90m(\u001b[39mmean ± σ\u001b[90m):  \u001b[39m0.00% ± 0.00%\n",
       "\n",
       "  \u001b[39m▁\u001b[39m \u001b[39m \u001b[39m \u001b[39m█\u001b[34m█\u001b[39m\u001b[39m \u001b[39m \u001b[32m \u001b[39m\u001b[39m \u001b[39m \u001b[39m▄\u001b[39m▆\u001b[39m▂\u001b[39m▁\u001b[39m \u001b[39m \u001b[39m \u001b[39m \u001b[39m \u001b[39m \u001b[39m \u001b[39m \u001b[39m \u001b[39m \u001b[39m \u001b[39m \u001b[39m \u001b[39m \u001b[39m \u001b[39m \u001b[39m \u001b[39m \u001b[39m \u001b[39m \u001b[39m \u001b[39m \u001b[39m \u001b[39m \u001b[39m \u001b[39m \u001b[39m \u001b[39m \u001b[39m \u001b[39m \u001b[39m \u001b[39m \u001b[39m \u001b[39m \u001b[39m \u001b[39m \u001b[39m \u001b[39m \u001b[39m \u001b[39m \u001b[39m \u001b[39m \u001b[39m \u001b[39m \u001b[39m \u001b[39m \u001b[39m▂\n",
       "  \u001b[39m█\u001b[39m▁\u001b[39m▁\u001b[39m▁\u001b[39m█\u001b[34m█\u001b[39m\u001b[39m▄\u001b[39m▇\u001b[32m▃\u001b[39m\u001b[39m▁\u001b[39m▁\u001b[39m█\u001b[39m█\u001b[39m█\u001b[39m█\u001b[39m█\u001b[39m▆\u001b[39m▅\u001b[39m▅\u001b[39m▄\u001b[39m▁\u001b[39m▁\u001b[39m▃\u001b[39m▄\u001b[39m▃\u001b[39m▁\u001b[39m▁\u001b[39m▁\u001b[39m▃\u001b[39m▁\u001b[39m▃\u001b[39m▁\u001b[39m▃\u001b[39m▃\u001b[39m▁\u001b[39m▃\u001b[39m▁\u001b[39m▁\u001b[39m▁\u001b[39m▁\u001b[39m▁\u001b[39m▄\u001b[39m▁\u001b[39m▃\u001b[39m▁\u001b[39m▁\u001b[39m▃\u001b[39m▁\u001b[39m▃\u001b[39m▁\u001b[39m▁\u001b[39m▃\u001b[39m▁\u001b[39m▃\u001b[39m▁\u001b[39m▁\u001b[39m▃\u001b[39m▁\u001b[39m▄\u001b[39m▄\u001b[39m \u001b[39m█\n",
       "  14.7 ns\u001b[90m       \u001b[39m\u001b[90mHistogram: \u001b[39m\u001b[90m\u001b[1mlog(\u001b[22m\u001b[39m\u001b[90mfrequency\u001b[39m\u001b[90m\u001b[1m)\u001b[22m\u001b[39m\u001b[90m by time\u001b[39m      25.2 ns \u001b[0m\u001b[1m<\u001b[22m\n",
       "\n",
       " Memory estimate\u001b[90m: \u001b[39m\u001b[33m0 bytes\u001b[39m, allocs estimate\u001b[90m: \u001b[39m\u001b[33m0\u001b[39m."
      ]
     },
     "execution_count": 71,
     "metadata": {},
     "output_type": "execute_result"
    }
   ],
   "source": [
    "@benchmark point(rand(), rand())"
   ]
  },
  {
   "cell_type": "code",
   "execution_count": 72,
   "id": "9a623d40",
   "metadata": {},
   "outputs": [],
   "source": [
    "struct point_\n",
    "    x\n",
    "    y\n",
    "end"
   ]
  },
  {
   "cell_type": "code",
   "execution_count": 73,
   "id": "01f91943",
   "metadata": {},
   "outputs": [
    {
     "data": {
      "text/plain": [
       "BenchmarkTools.Trial: 10000 samples with 996 evaluations.\n",
       " Range \u001b[90m(\u001b[39m\u001b[36m\u001b[1mmin\u001b[22m\u001b[39m … \u001b[35mmax\u001b[39m\u001b[90m):  \u001b[39m\u001b[36m\u001b[1m25.085 ns\u001b[22m\u001b[39m … \u001b[35m 2.209 μs\u001b[39m  \u001b[90m┊\u001b[39m GC \u001b[90m(\u001b[39mmin … max\u001b[90m): \u001b[39m0.00% … 98.47%\n",
       " Time  \u001b[90m(\u001b[39m\u001b[34m\u001b[1mmedian\u001b[22m\u001b[39m\u001b[90m):     \u001b[39m\u001b[34m\u001b[1m28.275 ns              \u001b[22m\u001b[39m\u001b[90m┊\u001b[39m GC \u001b[90m(\u001b[39mmedian\u001b[90m):    \u001b[39m0.00%\n",
       " Time  \u001b[90m(\u001b[39m\u001b[32m\u001b[1mmean\u001b[22m\u001b[39m ± \u001b[32mσ\u001b[39m\u001b[90m):   \u001b[39m\u001b[32m\u001b[1m29.929 ns\u001b[22m\u001b[39m ± \u001b[32m49.758 ns\u001b[39m  \u001b[90m┊\u001b[39m GC \u001b[90m(\u001b[39mmean ± σ\u001b[90m):  \u001b[39m4.37% ±  2.60%\n",
       "\n",
       "  \u001b[39m \u001b[39m \u001b[39m \u001b[39m \u001b[39m▃\u001b[39m▄\u001b[39m▃\u001b[39m \u001b[39m \u001b[39m \u001b[39m \u001b[39m▁\u001b[39m \u001b[39m \u001b[39m▄\u001b[39m█\u001b[34m▇\u001b[39m\u001b[39m▄\u001b[39m▂\u001b[39m▁\u001b[39m \u001b[39m \u001b[39m \u001b[39m \u001b[32m▁\u001b[39m\u001b[39m▂\u001b[39m▄\u001b[39m▅\u001b[39m▄\u001b[39m▁\u001b[39m \u001b[39m \u001b[39m \u001b[39m \u001b[39m \u001b[39m \u001b[39m \u001b[39m \u001b[39m \u001b[39m \u001b[39m \u001b[39m \u001b[39m \u001b[39m \u001b[39m \u001b[39m \u001b[39m \u001b[39m \u001b[39m \u001b[39m \u001b[39m \u001b[39m \u001b[39m \u001b[39m \u001b[39m \u001b[39m \u001b[39m \u001b[39m \u001b[39m \u001b[39m \u001b[39m▂\n",
       "  \u001b[39m▅\u001b[39m▅\u001b[39m▅\u001b[39m▆\u001b[39m█\u001b[39m█\u001b[39m█\u001b[39m█\u001b[39m▇\u001b[39m▇\u001b[39m▇\u001b[39m█\u001b[39m█\u001b[39m▆\u001b[39m█\u001b[39m█\u001b[34m█\u001b[39m\u001b[39m█\u001b[39m█\u001b[39m█\u001b[39m█\u001b[39m█\u001b[39m▆\u001b[39m▇\u001b[32m█\u001b[39m\u001b[39m█\u001b[39m█\u001b[39m█\u001b[39m█\u001b[39m█\u001b[39m█\u001b[39m▇\u001b[39m▆\u001b[39m▅\u001b[39m▄\u001b[39m▄\u001b[39m▃\u001b[39m▁\u001b[39m▃\u001b[39m▄\u001b[39m▃\u001b[39m▄\u001b[39m▄\u001b[39m▅\u001b[39m▄\u001b[39m▃\u001b[39m▃\u001b[39m▁\u001b[39m▃\u001b[39m▁\u001b[39m▃\u001b[39m▁\u001b[39m▁\u001b[39m▃\u001b[39m▁\u001b[39m▁\u001b[39m▄\u001b[39m▄\u001b[39m▃\u001b[39m \u001b[39m█\n",
       "  25.1 ns\u001b[90m      \u001b[39m\u001b[90mHistogram: \u001b[39m\u001b[90m\u001b[1mlog(\u001b[22m\u001b[39m\u001b[90mfrequency\u001b[39m\u001b[90m\u001b[1m)\u001b[22m\u001b[39m\u001b[90m by time\u001b[39m      36.9 ns \u001b[0m\u001b[1m<\u001b[22m\n",
       "\n",
       " Memory estimate\u001b[90m: \u001b[39m\u001b[33m32 bytes\u001b[39m, allocs estimate\u001b[90m: \u001b[39m\u001b[33m2\u001b[39m."
      ]
     },
     "execution_count": 73,
     "metadata": {},
     "output_type": "execute_result"
    }
   ],
   "source": [
    "@benchmark point_(rand(), rand())"
   ]
  },
  {
   "cell_type": "markdown",
   "id": "b0d25586",
   "metadata": {},
   "source": [
    "Based on this, even with the same input types, there's ~a 2x speed improvement when we declare Float64 for the struct parameters."
   ]
  },
  {
   "cell_type": "code",
   "execution_count": null,
   "id": "b3aee887",
   "metadata": {},
   "outputs": [],
   "source": []
  }
 ],
 "metadata": {
  "kernelspec": {
   "display_name": "Julia 1.6.1",
   "language": "julia",
   "name": "julia-1.6"
  },
  "language_info": {
   "file_extension": ".jl",
   "mimetype": "application/julia",
   "name": "julia",
   "version": "1.6.1"
  }
 },
 "nbformat": 4,
 "nbformat_minor": 5
}
