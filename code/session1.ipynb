{
 "cells": [
  {
   "cell_type": "markdown",
   "id": "71f402e2",
   "metadata": {},
   "source": [
    "## Session 1 for P215"
   ]
  },
  {
   "cell_type": "markdown",
   "id": "789da835",
   "metadata": {},
   "source": [
    "### KR1: Julia can be run using the terminal, the Julia REPL appears"
   ]
  },
  {
   "cell_type": "markdown",
   "id": "58298107",
   "metadata": {},
   "source": [
    "Can't show REPL here but just to demonstrate that it's available from the command line:"
   ]
  },
  {
   "cell_type": "code",
   "execution_count": 1,
   "id": "2908a3b7",
   "metadata": {},
   "outputs": [
    {
     "name": "stdout",
     "output_type": "stream",
     "text": [
      "julia version 1.6.1\n"
     ]
    }
   ],
   "source": [
    "; julia --ver"
   ]
  },
  {
   "cell_type": "markdown",
   "id": "cd61d552",
   "metadata": {},
   "source": [
    "### KR2: Execute via the Julia REPL basic arithmetic expressions such as 2+3 or 3^4"
   ]
  },
  {
   "cell_type": "code",
   "execution_count": 2,
   "id": "d6121c9a",
   "metadata": {},
   "outputs": [
    {
     "data": {
      "text/plain": [
       "5"
      ]
     },
     "execution_count": 2,
     "metadata": {},
     "output_type": "execute_result"
    }
   ],
   "source": [
    "2 + 3"
   ]
  },
  {
   "cell_type": "code",
   "execution_count": 3,
   "id": "06abd74a",
   "metadata": {},
   "outputs": [
    {
     "data": {
      "text/plain": [
       "81"
      ]
     },
     "execution_count": 3,
     "metadata": {},
     "output_type": "execute_result"
    }
   ],
   "source": [
    "3^4"
   ]
  },
  {
   "cell_type": "markdown",
   "id": "5fe9b9b6",
   "metadata": {},
   "source": [
    "### KR3: Tried several basic mathematical opeations such as exponentiation / trig / exp"
   ]
  },
  {
   "cell_type": "code",
   "execution_count": 4,
   "id": "f0c349d0",
   "metadata": {},
   "outputs": [
    {
     "data": {
      "text/plain": [
       "1.0"
      ]
     },
     "execution_count": 4,
     "metadata": {},
     "output_type": "execute_result"
    }
   ],
   "source": [
    "sin(π / 2)"
   ]
  },
  {
   "cell_type": "code",
   "execution_count": 5,
   "id": "08f5d3ab",
   "metadata": {},
   "outputs": [
    {
     "data": {
      "text/plain": [
       "6.123233995736766e-17"
      ]
     },
     "execution_count": 5,
     "metadata": {},
     "output_type": "execute_result"
    }
   ],
   "source": [
    "cos(π / 2)"
   ]
  },
  {
   "cell_type": "code",
   "execution_count": 6,
   "id": "ea3ec372",
   "metadata": {},
   "outputs": [
    {
     "data": {
      "text/plain": [
       "0.6931471805599453"
      ]
     },
     "execution_count": 6,
     "metadata": {},
     "output_type": "execute_result"
    }
   ],
   "source": [
    "log(2)"
   ]
  },
  {
   "cell_type": "markdown",
   "id": "8d37b088",
   "metadata": {},
   "source": [
    "### KR4: Switched to the four REPL modes\n",
    "```\n",
    "Help - ?\n",
    "Shell - ;\n",
    "Pkg - ] \n",
    "\n",
    "```"
   ]
  },
  {
   "cell_type": "markdown",
   "id": "5c3603f9",
   "metadata": {},
   "source": [
    "Example usage of different modes"
   ]
  },
  {
   "cell_type": "markdown",
   "id": "3104bb12",
   "metadata": {},
   "source": [
    "See help/docs for `rand()`"
   ]
  },
  {
   "cell_type": "code",
   "execution_count": 7,
   "id": "0276090d",
   "metadata": {},
   "outputs": [
    {
     "data": {
      "text/latex": [
       "\\begin{verbatim}\n",
       "rand([rng=GLOBAL_RNG], [S], [dims...])\n",
       "\\end{verbatim}\n",
       "Pick a random element or array of random elements from the set of values specified by \\texttt{S}; \\texttt{S} can be\n",
       "\n",
       "\\begin{itemize}\n",
       "\\item an indexable collection (for example \\texttt{1:9} or \\texttt{('x', \"y\", :z)}),\n",
       "\n",
       "\n",
       "\\item an \\texttt{AbstractDict} or \\texttt{AbstractSet} object,\n",
       "\n",
       "\n",
       "\\item a string (considered as a collection of characters), or\n",
       "\n",
       "\n",
       "\\item a type: the set of values to pick from is then equivalent to \\texttt{typemin(S):typemax(S)} for integers (this is not applicable to \\href{@ref}{\\texttt{BigInt}}), to $[0, 1)$ for floating point numbers and to $[0, 1)+i[0, 1)$ for complex floating point numbers;\n",
       "\n",
       "\\end{itemize}\n",
       "\\texttt{S} defaults to \\href{@ref}{\\texttt{Float64}}. When only one argument is passed besides the optional \\texttt{rng} and is a \\texttt{Tuple}, it is interpreted as a collection of values (\\texttt{S}) and not as \\texttt{dims}.\n",
       "\n",
       "\\begin{quote}\n",
       "\\textbf{compat}\n",
       "\n",
       "Julia 1.1\n",
       "\n",
       "Support for \\texttt{S} as a tuple requires at least Julia 1.1.\n",
       "\n",
       "\\end{quote}\n",
       "\\section{Examples}\n",
       "\\begin{verbatim}\n",
       "julia> rand(Int, 2)\n",
       "2-element Array{Int64,1}:\n",
       " 1339893410598768192\n",
       " 1575814717733606317\n",
       "\n",
       "julia> using Random\n",
       "\n",
       "julia> rand(MersenneTwister(0), Dict(1=>2, 3=>4))\n",
       "1=>2\n",
       "\n",
       "julia> rand((2, 3))\n",
       "3\n",
       "\n",
       "julia> rand(Float64, (2, 3))\n",
       "2×3 Array{Float64,2}:\n",
       " 0.999717  0.0143835  0.540787\n",
       " 0.696556  0.783855   0.938235\n",
       "\\end{verbatim}\n",
       "\\begin{quote}\n",
       "\\textbf{note}\n",
       "\n",
       "Note\n",
       "\n",
       "The complexity of \\texttt{rand(rng, s::Union\\{AbstractDict,AbstractSet\\})} is linear in the length of \\texttt{s}, unless an optimized method with constant complexity is available, which is the case for \\texttt{Dict}, \\texttt{Set} and \\texttt{BitSet}. For more than a few calls, use \\texttt{rand(rng, collect(s))} instead, or either \\texttt{rand(rng, Dict(s))} or \\texttt{rand(rng, Set(s))} as appropriate.\n",
       "\n",
       "\\end{quote}\n"
      ],
      "text/markdown": [
       "```\n",
       "rand([rng=GLOBAL_RNG], [S], [dims...])\n",
       "```\n",
       "\n",
       "Pick a random element or array of random elements from the set of values specified by `S`; `S` can be\n",
       "\n",
       "  * an indexable collection (for example `1:9` or `('x', \"y\", :z)`),\n",
       "  * an `AbstractDict` or `AbstractSet` object,\n",
       "  * a string (considered as a collection of characters), or\n",
       "  * a type: the set of values to pick from is then equivalent to `typemin(S):typemax(S)` for integers (this is not applicable to [`BigInt`](@ref)), to $[0, 1)$ for floating point numbers and to $[0, 1)+i[0, 1)$ for complex floating point numbers;\n",
       "\n",
       "`S` defaults to [`Float64`](@ref). When only one argument is passed besides the optional `rng` and is a `Tuple`, it is interpreted as a collection of values (`S`) and not as `dims`.\n",
       "\n",
       "!!! compat \"Julia 1.1\"\n",
       "    Support for `S` as a tuple requires at least Julia 1.1.\n",
       "\n",
       "\n",
       "# Examples\n",
       "\n",
       "```julia-repl\n",
       "julia> rand(Int, 2)\n",
       "2-element Array{Int64,1}:\n",
       " 1339893410598768192\n",
       " 1575814717733606317\n",
       "\n",
       "julia> using Random\n",
       "\n",
       "julia> rand(MersenneTwister(0), Dict(1=>2, 3=>4))\n",
       "1=>2\n",
       "\n",
       "julia> rand((2, 3))\n",
       "3\n",
       "\n",
       "julia> rand(Float64, (2, 3))\n",
       "2×3 Array{Float64,2}:\n",
       " 0.999717  0.0143835  0.540787\n",
       " 0.696556  0.783855   0.938235\n",
       "```\n",
       "\n",
       "!!! note\n",
       "    The complexity of `rand(rng, s::Union{AbstractDict,AbstractSet})` is linear in the length of `s`, unless an optimized method with constant complexity is available, which is the case for `Dict`, `Set` and `BitSet`. For more than a few calls, use `rand(rng, collect(s))` instead, or either `rand(rng, Dict(s))` or `rand(rng, Set(s))` as appropriate.\n",
       "\n"
      ],
      "text/plain": [
       "\u001b[36m  rand([rng=GLOBAL_RNG], [S], [dims...])\u001b[39m\n",
       "\n",
       "  Pick a random element or array of random elements from the set of values\n",
       "  specified by \u001b[36mS\u001b[39m; \u001b[36mS\u001b[39m can be\n",
       "\n",
       "    •  an indexable collection (for example \u001b[36m1:9\u001b[39m or \u001b[36m('x', \"y\", :z)\u001b[39m),\n",
       "\n",
       "    •  an \u001b[36mAbstractDict\u001b[39m or \u001b[36mAbstractSet\u001b[39m object,\n",
       "\n",
       "    •  a string (considered as a collection of characters), or\n",
       "\n",
       "    •  a type: the set of values to pick from is then equivalent to\n",
       "       \u001b[36mtypemin(S):typemax(S)\u001b[39m for integers (this is not applicable to\n",
       "       \u001b[36mBigInt\u001b[39m), to \u001b[35m[0, 1)\u001b[39m for floating point numbers and to \u001b[35m[0, 1)+i[0,\n",
       "       1)\u001b[39m for complex floating point numbers;\n",
       "\n",
       "  \u001b[36mS\u001b[39m defaults to \u001b[36mFloat64\u001b[39m. When only one argument is passed besides the optional\n",
       "  \u001b[36mrng\u001b[39m and is a \u001b[36mTuple\u001b[39m, it is interpreted as a collection of values (\u001b[36mS\u001b[39m) and not\n",
       "  as \u001b[36mdims\u001b[39m.\n",
       "\n",
       "\u001b[39m\u001b[1m  │ \u001b[22m\u001b[39m\u001b[1mJulia 1.1\u001b[22m\n",
       "\u001b[39m\u001b[1m  │\u001b[22m\n",
       "\u001b[39m\u001b[1m  │\u001b[22m  Support for \u001b[36mS\u001b[39m as a tuple requires at least Julia 1.1.\n",
       "\n",
       "\u001b[1m  Examples\u001b[22m\n",
       "\u001b[1m  ≡≡≡≡≡≡≡≡≡≡\u001b[22m\n",
       "\n",
       "\u001b[36m  julia> rand(Int, 2)\u001b[39m\n",
       "\u001b[36m  2-element Array{Int64,1}:\u001b[39m\n",
       "\u001b[36m   1339893410598768192\u001b[39m\n",
       "\u001b[36m   1575814717733606317\u001b[39m\n",
       "\u001b[36m  \u001b[39m\n",
       "\u001b[36m  julia> using Random\u001b[39m\n",
       "\u001b[36m  \u001b[39m\n",
       "\u001b[36m  julia> rand(MersenneTwister(0), Dict(1=>2, 3=>4))\u001b[39m\n",
       "\u001b[36m  1=>2\u001b[39m\n",
       "\u001b[36m  \u001b[39m\n",
       "\u001b[36m  julia> rand((2, 3))\u001b[39m\n",
       "\u001b[36m  3\u001b[39m\n",
       "\u001b[36m  \u001b[39m\n",
       "\u001b[36m  julia> rand(Float64, (2, 3))\u001b[39m\n",
       "\u001b[36m  2×3 Array{Float64,2}:\u001b[39m\n",
       "\u001b[36m   0.999717  0.0143835  0.540787\u001b[39m\n",
       "\u001b[36m   0.696556  0.783855   0.938235\u001b[39m\n",
       "\n",
       "\u001b[36m\u001b[1m  │ \u001b[22m\u001b[39m\u001b[36m\u001b[1mNote\u001b[22m\u001b[39m\n",
       "\u001b[36m\u001b[1m  │\u001b[22m\u001b[39m\n",
       "\u001b[36m\u001b[1m  │\u001b[22m\u001b[39m  The complexity of \u001b[36mrand(rng, s::Union{AbstractDict,AbstractSet})\u001b[39m is\n",
       "\u001b[36m\u001b[1m  │\u001b[22m\u001b[39m  linear in the length of \u001b[36ms\u001b[39m, unless an optimized method with\n",
       "\u001b[36m\u001b[1m  │\u001b[22m\u001b[39m  constant complexity is available, which is the case for \u001b[36mDict\u001b[39m, \u001b[36mSet\u001b[39m\n",
       "\u001b[36m\u001b[1m  │\u001b[22m\u001b[39m  and \u001b[36mBitSet\u001b[39m. For more than a few calls, use \u001b[36mrand(rng, collect(s))\u001b[39m\n",
       "\u001b[36m\u001b[1m  │\u001b[22m\u001b[39m  instead, or either \u001b[36mrand(rng, Dict(s))\u001b[39m or \u001b[36mrand(rng, Set(s))\u001b[39m as\n",
       "\u001b[36m\u001b[1m  │\u001b[22m\u001b[39m  appropriate."
      ]
     },
     "execution_count": 7,
     "metadata": {},
     "output_type": "execute_result"
    }
   ],
   "source": [
    "? rand()"
   ]
  },
  {
   "cell_type": "markdown",
   "id": "bc5c4114",
   "metadata": {},
   "source": [
    "Run a shell command (print current directory)"
   ]
  },
  {
   "cell_type": "code",
   "execution_count": 8,
   "id": "f9f30766",
   "metadata": {},
   "outputs": [
    {
     "name": "stdout",
     "output_type": "stream",
     "text": [
      "/Users/raaromero/p215/code\n"
     ]
    }
   ],
   "source": [
    "; pwd"
   ]
  },
  {
   "cell_type": "markdown",
   "id": "242f3a28",
   "metadata": {},
   "source": [
    "Install the package `Example` via `Pkg` mode, show that it can be imported; Then uninstall it and demonstrate that it's gone."
   ]
  },
  {
   "cell_type": "code",
   "execution_count": 9,
   "id": "9d52f792",
   "metadata": {},
   "outputs": [],
   "source": [
    "] add Example"
   ]
  },
  {
   "cell_type": "code",
   "execution_count": 10,
   "id": "d29ee5e2",
   "metadata": {},
   "outputs": [],
   "source": [
    "import Example"
   ]
  },
  {
   "cell_type": "code",
   "execution_count": 11,
   "id": "223d0fc9",
   "metadata": {},
   "outputs": [],
   "source": [
    "] rm Example"
   ]
  },
  {
   "cell_type": "code",
   "execution_count": 12,
   "id": "f8fbdf59",
   "metadata": {},
   "outputs": [
    {
     "ename": "LoadError",
     "evalue": "ArgumentError: Package Example not found in current path:\n- Run `import Pkg; Pkg.add(\"Example\")` to install the Example package.\n",
     "output_type": "error",
     "traceback": [
      "ArgumentError: Package Example not found in current path:\n- Run `import Pkg; Pkg.add(\"Example\")` to install the Example package.\n",
      "",
      "Stacktrace:",
      " [1] require(into::Module, mod::Symbol)",
      "   @ Base ./loading.jl:871",
      " [2] eval",
      "   @ ./boot.jl:360 [inlined]",
      " [3] include_string(mapexpr::typeof(REPL.softscope), mod::Module, code::String, filename::String)",
      "   @ Base ./loading.jl:1094"
     ]
    }
   ],
   "source": [
    "import Example"
   ]
  },
  {
   "cell_type": "markdown",
   "id": "d98572e9",
   "metadata": {},
   "source": [
    "### KR5: Assign a generated 30 x 30 random matrix via the command rand()"
   ]
  },
  {
   "cell_type": "code",
   "execution_count": 13,
   "id": "fee9eda0",
   "metadata": {},
   "outputs": [
    {
     "data": {
      "text/plain": [
       "30×30 Matrix{Float64}:\n",
       " 0.369006   0.618535    0.040585    …  0.0315895  0.423073   0.747951\n",
       " 0.699732   0.186582    0.254027       0.843932   0.373859   0.0875643\n",
       " 0.895891   0.134754    0.80756        0.53184    0.149137   0.446211\n",
       " 0.0954827  0.00750527  0.633252       0.600914   0.0310012  0.824345\n",
       " 0.796124   0.82404     0.655697       0.995074   0.127018   0.740802\n",
       " 0.35415    0.833026    0.657247    …  0.589953   0.304385   0.288714\n",
       " 0.29748    0.646       0.822069       0.246443   0.727289   0.84636\n",
       " 0.899121   0.84265     0.00768696     0.503323   0.132692   0.509218\n",
       " 0.109747   0.970499    0.427006       0.95285    0.649367   0.803159\n",
       " 0.353967   0.644989    0.639565       0.963148   0.0229059  0.185813\n",
       " 0.639391   0.681708    0.842076    …  0.0947814  0.11299    0.246373\n",
       " 0.487265   0.865064    0.107285       0.344179   0.73526    0.586928\n",
       " 0.934653   0.864797    0.226768       0.272614   0.455659   0.149862\n",
       " ⋮                                  ⋱                        \n",
       " 0.904953   0.101248    0.79015        0.207487   0.566562   0.702056\n",
       " 0.932951   0.792166    0.201253       0.908367   0.98605    0.46622\n",
       " 0.209038   0.26578     0.857538    …  0.0124858  0.305542   0.513554\n",
       " 0.941704   0.799884    0.516201       0.563911   0.325561   0.612068\n",
       " 0.825969   0.600754    0.633476       0.457686   0.971148   0.269819\n",
       " 0.49505    0.18418     0.800528       0.196484   0.113846   0.605263\n",
       " 0.8692     0.663631    0.0513781      0.94109    0.937165   0.55715\n",
       " 0.791474   0.600168    0.623024    …  0.298338   0.117385   0.0495695\n",
       " 0.0355957  0.75232     0.578763       0.286588   0.909897   0.164171\n",
       " 0.48461    0.264087    0.832933       0.508328   0.664248   0.38985\n",
       " 0.617274   0.349181    0.255276       0.225778   0.772035   0.305801\n",
       " 0.030319   0.712418    0.975859       0.697773   0.790184   0.338271"
      ]
     },
     "execution_count": 13,
     "metadata": {},
     "output_type": "execute_result"
    }
   ],
   "source": [
    "A = rand(30, 30)\n",
    "A"
   ]
  },
  {
   "cell_type": "markdown",
   "id": "19ce5032",
   "metadata": {},
   "source": [
    "### KR6: Other things"
   ]
  },
  {
   "cell_type": "markdown",
   "id": "1a0c580c",
   "metadata": {},
   "source": [
    "#### Simple plotting"
   ]
  },
  {
   "cell_type": "code",
   "execution_count": 14,
   "id": "e8cf136d",
   "metadata": {},
   "outputs": [
    {
     "data": {
      "image/svg+xml": [
       "<?xml version=\"1.0\" encoding=\"utf-8\"?>\n",
       "<svg xmlns=\"http://www.w3.org/2000/svg\" xmlns:xlink=\"http://www.w3.org/1999/xlink\" width=\"600\" height=\"400\" viewBox=\"0 0 2400 1600\">\n",
       "<defs>\n",
       "  <clipPath id=\"clip450\">\n",
       "    <rect x=\"0\" y=\"0\" width=\"2400\" height=\"1600\"/>\n",
       "  </clipPath>\n",
       "</defs>\n",
       "<path clip-path=\"url(#clip450)\" d=\"\n",
       "M0 1600 L2400 1600 L2400 0 L0 0  Z\n",
       "  \" fill=\"#ffffff\" fill-rule=\"evenodd\" fill-opacity=\"1\"/>\n",
       "<defs>\n",
       "  <clipPath id=\"clip451\">\n",
       "    <rect x=\"480\" y=\"0\" width=\"1681\" height=\"1600\"/>\n",
       "  </clipPath>\n",
       "</defs>\n",
       "<path clip-path=\"url(#clip450)\" d=\"\n",
       "M193.936 1486.45 L2352.76 1486.45 L2352.76 47.2441 L193.936 47.2441  Z\n",
       "  \" fill=\"#ffffff\" fill-rule=\"evenodd\" fill-opacity=\"1\"/>\n",
       "<defs>\n",
       "  <clipPath id=\"clip452\">\n",
       "    <rect x=\"193\" y=\"47\" width=\"2160\" height=\"1440\"/>\n",
       "  </clipPath>\n",
       "</defs>\n",
       "<polyline clip-path=\"url(#clip452)\" style=\"stroke:#000000; stroke-linecap:butt; stroke-linejoin:round; stroke-width:2; stroke-opacity:0.1; fill:none\" points=\"\n",
       "  463,1486.45 463,47.2441 \n",
       "  \"/>\n",
       "<polyline clip-path=\"url(#clip452)\" style=\"stroke:#000000; stroke-linecap:butt; stroke-linejoin:round; stroke-width:2; stroke-opacity:0.1; fill:none\" points=\"\n",
       "  868.173,1486.45 868.173,47.2441 \n",
       "  \"/>\n",
       "<polyline clip-path=\"url(#clip452)\" style=\"stroke:#000000; stroke-linecap:butt; stroke-linejoin:round; stroke-width:2; stroke-opacity:0.1; fill:none\" points=\"\n",
       "  1273.35,1486.45 1273.35,47.2441 \n",
       "  \"/>\n",
       "<polyline clip-path=\"url(#clip452)\" style=\"stroke:#000000; stroke-linecap:butt; stroke-linejoin:round; stroke-width:2; stroke-opacity:0.1; fill:none\" points=\"\n",
       "  1678.52,1486.45 1678.52,47.2441 \n",
       "  \"/>\n",
       "<polyline clip-path=\"url(#clip452)\" style=\"stroke:#000000; stroke-linecap:butt; stroke-linejoin:round; stroke-width:2; stroke-opacity:0.1; fill:none\" points=\"\n",
       "  2083.69,1486.45 2083.69,47.2441 \n",
       "  \"/>\n",
       "<polyline clip-path=\"url(#clip450)\" style=\"stroke:#000000; stroke-linecap:butt; stroke-linejoin:round; stroke-width:4; stroke-opacity:1; fill:none\" points=\"\n",
       "  193.936,1486.45 2352.76,1486.45 \n",
       "  \"/>\n",
       "<polyline clip-path=\"url(#clip450)\" style=\"stroke:#000000; stroke-linecap:butt; stroke-linejoin:round; stroke-width:4; stroke-opacity:1; fill:none\" points=\"\n",
       "  463,1486.45 463,1467.55 \n",
       "  \"/>\n",
       "<polyline clip-path=\"url(#clip450)\" style=\"stroke:#000000; stroke-linecap:butt; stroke-linejoin:round; stroke-width:4; stroke-opacity:1; fill:none\" points=\"\n",
       "  868.173,1486.45 868.173,1467.55 \n",
       "  \"/>\n",
       "<polyline clip-path=\"url(#clip450)\" style=\"stroke:#000000; stroke-linecap:butt; stroke-linejoin:round; stroke-width:4; stroke-opacity:1; fill:none\" points=\"\n",
       "  1273.35,1486.45 1273.35,1467.55 \n",
       "  \"/>\n",
       "<polyline clip-path=\"url(#clip450)\" style=\"stroke:#000000; stroke-linecap:butt; stroke-linejoin:round; stroke-width:4; stroke-opacity:1; fill:none\" points=\"\n",
       "  1678.52,1486.45 1678.52,1467.55 \n",
       "  \"/>\n",
       "<polyline clip-path=\"url(#clip450)\" style=\"stroke:#000000; stroke-linecap:butt; stroke-linejoin:round; stroke-width:4; stroke-opacity:1; fill:none\" points=\"\n",
       "  2083.69,1486.45 2083.69,1467.55 \n",
       "  \"/>\n",
       "<path clip-path=\"url(#clip450)\" d=\"M409.528 1530.29 L439.203 1530.29 L439.203 1534.23 L409.528 1534.23 L409.528 1530.29 Z\" fill=\"#000000\" fill-rule=\"evenodd\" fill-opacity=\"1\" /><path clip-path=\"url(#clip450)\" d=\"M449.342 1512.56 L467.699 1512.56 L467.699 1516.5 L453.625 1516.5 L453.625 1524.97 Q454.643 1524.62 455.662 1524.46 Q456.68 1524.27 457.699 1524.27 Q463.486 1524.27 466.865 1527.44 Q470.245 1530.62 470.245 1536.03 Q470.245 1541.61 466.773 1544.71 Q463.301 1547.79 456.981 1547.79 Q454.805 1547.79 452.537 1547.42 Q450.291 1547.05 447.884 1546.31 L447.884 1541.61 Q449.967 1542.74 452.189 1543.3 Q454.412 1543.86 456.889 1543.86 Q460.893 1543.86 463.231 1541.75 Q465.569 1539.64 465.569 1536.03 Q465.569 1532.42 463.231 1530.31 Q460.893 1528.21 456.889 1528.21 Q455.014 1528.21 453.139 1528.62 Q451.287 1529.04 449.342 1529.92 L449.342 1512.56 Z\" fill=\"#000000\" fill-rule=\"evenodd\" fill-opacity=\"1\" /><path clip-path=\"url(#clip450)\" d=\"M479.458 1541.24 L484.342 1541.24 L484.342 1547.12 L479.458 1547.12 L479.458 1541.24 Z\" fill=\"#000000\" fill-rule=\"evenodd\" fill-opacity=\"1\" /><path clip-path=\"url(#clip450)\" d=\"M504.527 1515.64 Q500.916 1515.64 499.087 1519.2 Q497.282 1522.75 497.282 1529.87 Q497.282 1536.98 499.087 1540.55 Q500.916 1544.09 504.527 1544.09 Q508.161 1544.09 509.967 1540.55 Q511.796 1536.98 511.796 1529.87 Q511.796 1522.75 509.967 1519.2 Q508.161 1515.64 504.527 1515.64 M504.527 1511.93 Q510.337 1511.93 513.393 1516.54 Q516.472 1521.12 516.472 1529.87 Q516.472 1538.6 513.393 1543.21 Q510.337 1547.79 504.527 1547.79 Q498.717 1547.79 495.638 1543.21 Q492.583 1538.6 492.583 1529.87 Q492.583 1521.12 495.638 1516.54 Q498.717 1511.93 504.527 1511.93 Z\" fill=\"#000000\" fill-rule=\"evenodd\" fill-opacity=\"1\" /><path clip-path=\"url(#clip450)\" d=\"M815.199 1530.29 L844.874 1530.29 L844.874 1534.23 L815.199 1534.23 L815.199 1530.29 Z\" fill=\"#000000\" fill-rule=\"evenodd\" fill-opacity=\"1\" /><path clip-path=\"url(#clip450)\" d=\"M858.995 1543.18 L875.314 1543.18 L875.314 1547.12 L853.37 1547.12 L853.37 1543.18 Q856.032 1540.43 860.615 1535.8 Q865.221 1531.15 866.402 1529.81 Q868.647 1527.28 869.527 1525.55 Q870.43 1523.79 870.43 1522.1 Q870.43 1519.34 868.485 1517.61 Q866.564 1515.87 863.462 1515.87 Q861.263 1515.87 858.809 1516.63 Q856.379 1517.4 853.601 1518.95 L853.601 1514.23 Q856.425 1513.09 858.879 1512.51 Q861.333 1511.93 863.37 1511.93 Q868.74 1511.93 871.934 1514.62 Q875.129 1517.31 875.129 1521.8 Q875.129 1523.93 874.319 1525.85 Q873.532 1527.74 871.425 1530.34 Q870.846 1531.01 867.745 1534.23 Q864.643 1537.42 858.995 1543.18 Z\" fill=\"#000000\" fill-rule=\"evenodd\" fill-opacity=\"1\" /><path clip-path=\"url(#clip450)\" d=\"M885.129 1541.24 L890.013 1541.24 L890.013 1547.12 L885.129 1547.12 L885.129 1541.24 Z\" fill=\"#000000\" fill-rule=\"evenodd\" fill-opacity=\"1\" /><path clip-path=\"url(#clip450)\" d=\"M900.244 1512.56 L918.601 1512.56 L918.601 1516.5 L904.527 1516.5 L904.527 1524.97 Q905.545 1524.62 906.564 1524.46 Q907.582 1524.27 908.601 1524.27 Q914.388 1524.27 917.767 1527.44 Q921.147 1530.62 921.147 1536.03 Q921.147 1541.61 917.675 1544.71 Q914.203 1547.79 907.883 1547.79 Q905.707 1547.79 903.439 1547.42 Q901.193 1547.05 898.786 1546.31 L898.786 1541.61 Q900.869 1542.74 903.092 1543.3 Q905.314 1543.86 907.791 1543.86 Q911.795 1543.86 914.133 1541.75 Q916.471 1539.64 916.471 1536.03 Q916.471 1532.42 914.133 1530.31 Q911.795 1528.21 907.791 1528.21 Q905.916 1528.21 904.041 1528.62 Q902.189 1529.04 900.244 1529.92 L900.244 1512.56 Z\" fill=\"#000000\" fill-rule=\"evenodd\" fill-opacity=\"1\" /><path clip-path=\"url(#clip450)\" d=\"M1250.73 1515.64 Q1247.12 1515.64 1245.29 1519.2 Q1243.49 1522.75 1243.49 1529.87 Q1243.49 1536.98 1245.29 1540.55 Q1247.12 1544.09 1250.73 1544.09 Q1254.36 1544.09 1256.17 1540.55 Q1258 1536.98 1258 1529.87 Q1258 1522.75 1256.17 1519.2 Q1254.36 1515.64 1250.73 1515.64 M1250.73 1511.93 Q1256.54 1511.93 1259.6 1516.54 Q1262.67 1521.12 1262.67 1529.87 Q1262.67 1538.6 1259.6 1543.21 Q1256.54 1547.79 1250.73 1547.79 Q1244.92 1547.79 1241.84 1543.21 Q1238.79 1538.6 1238.79 1529.87 Q1238.79 1521.12 1241.84 1516.54 Q1244.92 1511.93 1250.73 1511.93 Z\" fill=\"#000000\" fill-rule=\"evenodd\" fill-opacity=\"1\" /><path clip-path=\"url(#clip450)\" d=\"M1270.89 1541.24 L1275.78 1541.24 L1275.78 1547.12 L1270.89 1547.12 L1270.89 1541.24 Z\" fill=\"#000000\" fill-rule=\"evenodd\" fill-opacity=\"1\" /><path clip-path=\"url(#clip450)\" d=\"M1295.96 1515.64 Q1292.35 1515.64 1290.52 1519.2 Q1288.72 1522.75 1288.72 1529.87 Q1288.72 1536.98 1290.52 1540.55 Q1292.35 1544.09 1295.96 1544.09 Q1299.6 1544.09 1301.4 1540.55 Q1303.23 1536.98 1303.23 1529.87 Q1303.23 1522.75 1301.4 1519.2 Q1299.6 1515.64 1295.96 1515.64 M1295.96 1511.93 Q1301.77 1511.93 1304.83 1516.54 Q1307.91 1521.12 1307.91 1529.87 Q1307.91 1538.6 1304.83 1543.21 Q1301.77 1547.79 1295.96 1547.79 Q1290.15 1547.79 1287.07 1543.21 Q1284.02 1538.6 1284.02 1529.87 Q1284.02 1521.12 1287.07 1516.54 Q1290.15 1511.93 1295.96 1511.93 Z\" fill=\"#000000\" fill-rule=\"evenodd\" fill-opacity=\"1\" /><path clip-path=\"url(#clip450)\" d=\"M1650.26 1543.18 L1666.57 1543.18 L1666.57 1547.12 L1644.63 1547.12 L1644.63 1543.18 Q1647.29 1540.43 1651.88 1535.8 Q1656.48 1531.15 1657.66 1529.81 Q1659.91 1527.28 1660.79 1525.55 Q1661.69 1523.79 1661.69 1522.1 Q1661.69 1519.34 1659.75 1517.61 Q1657.82 1515.87 1654.72 1515.87 Q1652.52 1515.87 1650.07 1516.63 Q1647.64 1517.4 1644.86 1518.95 L1644.86 1514.23 Q1647.69 1513.09 1650.14 1512.51 Q1652.59 1511.93 1654.63 1511.93 Q1660 1511.93 1663.2 1514.62 Q1666.39 1517.31 1666.39 1521.8 Q1666.39 1523.93 1665.58 1525.85 Q1664.79 1527.74 1662.69 1530.34 Q1662.11 1531.01 1659.01 1534.23 Q1655.9 1537.42 1650.26 1543.18 Z\" fill=\"#000000\" fill-rule=\"evenodd\" fill-opacity=\"1\" /><path clip-path=\"url(#clip450)\" d=\"M1676.39 1541.24 L1681.27 1541.24 L1681.27 1547.12 L1676.39 1547.12 L1676.39 1541.24 Z\" fill=\"#000000\" fill-rule=\"evenodd\" fill-opacity=\"1\" /><path clip-path=\"url(#clip450)\" d=\"M1691.51 1512.56 L1709.86 1512.56 L1709.86 1516.5 L1695.79 1516.5 L1695.79 1524.97 Q1696.81 1524.62 1697.82 1524.46 Q1698.84 1524.27 1699.86 1524.27 Q1705.65 1524.27 1709.03 1527.44 Q1712.41 1530.62 1712.41 1536.03 Q1712.41 1541.61 1708.94 1544.71 Q1705.46 1547.79 1699.14 1547.79 Q1696.97 1547.79 1694.7 1547.42 Q1692.45 1547.05 1690.05 1546.31 L1690.05 1541.61 Q1692.13 1542.74 1694.35 1543.3 Q1696.57 1543.86 1699.05 1543.86 Q1703.06 1543.86 1705.39 1541.75 Q1707.73 1539.64 1707.73 1536.03 Q1707.73 1532.42 1705.39 1530.31 Q1703.06 1528.21 1699.05 1528.21 Q1697.18 1528.21 1695.3 1528.62 Q1693.45 1529.04 1691.51 1529.92 L1691.51 1512.56 Z\" fill=\"#000000\" fill-rule=\"evenodd\" fill-opacity=\"1\" /><path clip-path=\"url(#clip450)\" d=\"M2050.86 1512.56 L2069.21 1512.56 L2069.21 1516.5 L2055.14 1516.5 L2055.14 1524.97 Q2056.16 1524.62 2057.18 1524.46 Q2058.19 1524.27 2059.21 1524.27 Q2065 1524.27 2068.38 1527.44 Q2071.76 1530.62 2071.76 1536.03 Q2071.76 1541.61 2068.29 1544.71 Q2064.82 1547.79 2058.5 1547.79 Q2056.32 1547.79 2054.05 1547.42 Q2051.81 1547.05 2049.4 1546.31 L2049.4 1541.61 Q2051.48 1542.74 2053.7 1543.3 Q2055.93 1543.86 2058.4 1543.86 Q2062.41 1543.86 2064.75 1541.75 Q2067.08 1539.64 2067.08 1536.03 Q2067.08 1532.42 2064.75 1530.31 Q2062.41 1528.21 2058.4 1528.21 Q2056.53 1528.21 2054.65 1528.62 Q2052.8 1529.04 2050.86 1529.92 L2050.86 1512.56 Z\" fill=\"#000000\" fill-rule=\"evenodd\" fill-opacity=\"1\" /><path clip-path=\"url(#clip450)\" d=\"M2080.97 1541.24 L2085.86 1541.24 L2085.86 1547.12 L2080.97 1547.12 L2080.97 1541.24 Z\" fill=\"#000000\" fill-rule=\"evenodd\" fill-opacity=\"1\" /><path clip-path=\"url(#clip450)\" d=\"M2106.04 1515.64 Q2102.43 1515.64 2100.6 1519.2 Q2098.8 1522.75 2098.8 1529.87 Q2098.8 1536.98 2100.6 1540.55 Q2102.43 1544.09 2106.04 1544.09 Q2109.68 1544.09 2111.48 1540.55 Q2113.31 1536.98 2113.31 1529.87 Q2113.31 1522.75 2111.48 1519.2 Q2109.68 1515.64 2106.04 1515.64 M2106.04 1511.93 Q2111.85 1511.93 2114.91 1516.54 Q2117.99 1521.12 2117.99 1529.87 Q2117.99 1538.6 2114.91 1543.21 Q2111.85 1547.79 2106.04 1547.79 Q2100.23 1547.79 2097.15 1543.21 Q2094.1 1538.6 2094.1 1529.87 Q2094.1 1521.12 2097.15 1516.54 Q2100.23 1511.93 2106.04 1511.93 Z\" fill=\"#000000\" fill-rule=\"evenodd\" fill-opacity=\"1\" /><polyline clip-path=\"url(#clip452)\" style=\"stroke:#000000; stroke-linecap:butt; stroke-linejoin:round; stroke-width:2; stroke-opacity:0.1; fill:none\" points=\"\n",
       "  193.936,1445.72 2352.76,1445.72 \n",
       "  \"/>\n",
       "<polyline clip-path=\"url(#clip452)\" style=\"stroke:#000000; stroke-linecap:butt; stroke-linejoin:round; stroke-width:2; stroke-opacity:0.1; fill:none\" points=\"\n",
       "  193.936,1106.28 2352.76,1106.28 \n",
       "  \"/>\n",
       "<polyline clip-path=\"url(#clip452)\" style=\"stroke:#000000; stroke-linecap:butt; stroke-linejoin:round; stroke-width:2; stroke-opacity:0.1; fill:none\" points=\"\n",
       "  193.936,766.848 2352.76,766.848 \n",
       "  \"/>\n",
       "<polyline clip-path=\"url(#clip452)\" style=\"stroke:#000000; stroke-linecap:butt; stroke-linejoin:round; stroke-width:2; stroke-opacity:0.1; fill:none\" points=\"\n",
       "  193.936,427.412 2352.76,427.412 \n",
       "  \"/>\n",
       "<polyline clip-path=\"url(#clip452)\" style=\"stroke:#000000; stroke-linecap:butt; stroke-linejoin:round; stroke-width:2; stroke-opacity:0.1; fill:none\" points=\"\n",
       "  193.936,87.9763 2352.76,87.9763 \n",
       "  \"/>\n",
       "<polyline clip-path=\"url(#clip450)\" style=\"stroke:#000000; stroke-linecap:butt; stroke-linejoin:round; stroke-width:4; stroke-opacity:1; fill:none\" points=\"\n",
       "  193.936,1486.45 193.936,47.2441 \n",
       "  \"/>\n",
       "<polyline clip-path=\"url(#clip450)\" style=\"stroke:#000000; stroke-linecap:butt; stroke-linejoin:round; stroke-width:4; stroke-opacity:1; fill:none\" points=\"\n",
       "  193.936,1445.72 212.834,1445.72 \n",
       "  \"/>\n",
       "<polyline clip-path=\"url(#clip450)\" style=\"stroke:#000000; stroke-linecap:butt; stroke-linejoin:round; stroke-width:4; stroke-opacity:1; fill:none\" points=\"\n",
       "  193.936,1106.28 212.834,1106.28 \n",
       "  \"/>\n",
       "<polyline clip-path=\"url(#clip450)\" style=\"stroke:#000000; stroke-linecap:butt; stroke-linejoin:round; stroke-width:4; stroke-opacity:1; fill:none\" points=\"\n",
       "  193.936,766.848 212.834,766.848 \n",
       "  \"/>\n",
       "<polyline clip-path=\"url(#clip450)\" style=\"stroke:#000000; stroke-linecap:butt; stroke-linejoin:round; stroke-width:4; stroke-opacity:1; fill:none\" points=\"\n",
       "  193.936,427.412 212.834,427.412 \n",
       "  \"/>\n",
       "<polyline clip-path=\"url(#clip450)\" style=\"stroke:#000000; stroke-linecap:butt; stroke-linejoin:round; stroke-width:4; stroke-opacity:1; fill:none\" points=\"\n",
       "  193.936,87.9763 212.834,87.9763 \n",
       "  \"/>\n",
       "<path clip-path=\"url(#clip450)\" d=\"M50.9921 1446.17 L80.6679 1446.17 L80.6679 1450.11 L50.9921 1450.11 L50.9921 1446.17 Z\" fill=\"#000000\" fill-rule=\"evenodd\" fill-opacity=\"1\" /><path clip-path=\"url(#clip450)\" d=\"M91.5706 1459.06 L99.2095 1459.06 L99.2095 1432.7 L90.8993 1434.36 L90.8993 1430.11 L99.1632 1428.44 L103.839 1428.44 L103.839 1459.06 L111.478 1459.06 L111.478 1463 L91.5706 1463 L91.5706 1459.06 Z\" fill=\"#000000\" fill-rule=\"evenodd\" fill-opacity=\"1\" /><path clip-path=\"url(#clip450)\" d=\"M120.922 1457.12 L125.807 1457.12 L125.807 1463 L120.922 1463 L120.922 1457.12 Z\" fill=\"#000000\" fill-rule=\"evenodd\" fill-opacity=\"1\" /><path clip-path=\"url(#clip450)\" d=\"M145.992 1431.52 Q142.381 1431.52 140.552 1435.08 Q138.746 1438.62 138.746 1445.75 Q138.746 1452.86 140.552 1456.42 Q142.381 1459.97 145.992 1459.97 Q149.626 1459.97 151.431 1456.42 Q153.26 1452.86 153.26 1445.75 Q153.26 1438.62 151.431 1435.08 Q149.626 1431.52 145.992 1431.52 M145.992 1427.81 Q151.802 1427.81 154.857 1432.42 Q157.936 1437 157.936 1445.75 Q157.936 1454.48 154.857 1459.09 Q151.802 1463.67 145.992 1463.67 Q140.181 1463.67 137.103 1459.09 Q134.047 1454.48 134.047 1445.75 Q134.047 1437 137.103 1432.42 Q140.181 1427.81 145.992 1427.81 Z\" fill=\"#000000\" fill-rule=\"evenodd\" fill-opacity=\"1\" /><path clip-path=\"url(#clip450)\" d=\"M51.9875 1106.73 L81.6633 1106.73 L81.6633 1110.67 L51.9875 1110.67 L51.9875 1106.73 Z\" fill=\"#000000\" fill-rule=\"evenodd\" fill-opacity=\"1\" /><path clip-path=\"url(#clip450)\" d=\"M101.756 1092.08 Q98.1447 1092.08 96.316 1095.65 Q94.5104 1099.19 94.5104 1106.32 Q94.5104 1113.42 96.316 1116.99 Q98.1447 1120.53 101.756 1120.53 Q105.39 1120.53 107.196 1116.99 Q109.024 1113.42 109.024 1106.32 Q109.024 1099.19 107.196 1095.65 Q105.39 1092.08 101.756 1092.08 M101.756 1088.38 Q107.566 1088.38 110.621 1092.98 Q113.7 1097.57 113.7 1106.32 Q113.7 1115.04 110.621 1119.65 Q107.566 1124.23 101.756 1124.23 Q95.9456 1124.23 92.8669 1119.65 Q89.8114 1115.04 89.8114 1106.32 Q89.8114 1097.57 92.8669 1092.98 Q95.9456 1088.38 101.756 1088.38 Z\" fill=\"#000000\" fill-rule=\"evenodd\" fill-opacity=\"1\" /><path clip-path=\"url(#clip450)\" d=\"M121.918 1117.68 L126.802 1117.68 L126.802 1123.56 L121.918 1123.56 L121.918 1117.68 Z\" fill=\"#000000\" fill-rule=\"evenodd\" fill-opacity=\"1\" /><path clip-path=\"url(#clip450)\" d=\"M137.033 1089 L155.39 1089 L155.39 1092.94 L141.316 1092.94 L141.316 1101.41 Q142.334 1101.06 143.353 1100.9 Q144.371 1100.72 145.39 1100.72 Q151.177 1100.72 154.556 1103.89 Q157.936 1107.06 157.936 1112.48 Q157.936 1118.05 154.464 1121.16 Q150.992 1124.23 144.672 1124.23 Q142.496 1124.23 140.228 1123.86 Q137.982 1123.49 135.575 1122.75 L135.575 1118.05 Q137.658 1119.19 139.881 1119.74 Q142.103 1120.3 144.58 1120.3 Q148.584 1120.3 150.922 1118.19 Q153.26 1116.09 153.26 1112.48 Q153.26 1108.86 150.922 1106.76 Q148.584 1104.65 144.58 1104.65 Q142.705 1104.65 140.83 1105.07 Q138.978 1105.48 137.033 1106.36 L137.033 1089 Z\" fill=\"#000000\" fill-rule=\"evenodd\" fill-opacity=\"1\" /><path clip-path=\"url(#clip450)\" d=\"M100.76 752.646 Q97.1493 752.646 95.3206 756.211 Q93.515 759.753 93.515 766.882 Q93.515 773.989 95.3206 777.554 Q97.1493 781.095 100.76 781.095 Q104.395 781.095 106.2 777.554 Q108.029 773.989 108.029 766.882 Q108.029 759.753 106.2 756.211 Q104.395 752.646 100.76 752.646 M100.76 748.943 Q106.571 748.943 109.626 753.549 Q112.705 758.132 112.705 766.882 Q112.705 775.609 109.626 780.216 Q106.571 784.799 100.76 784.799 Q94.9502 784.799 91.8715 780.216 Q88.816 775.609 88.816 766.882 Q88.816 758.132 91.8715 753.549 Q94.9502 748.943 100.76 748.943 Z\" fill=\"#000000\" fill-rule=\"evenodd\" fill-opacity=\"1\" /><path clip-path=\"url(#clip450)\" d=\"M120.922 778.248 L125.807 778.248 L125.807 784.128 L120.922 784.128 L120.922 778.248 Z\" fill=\"#000000\" fill-rule=\"evenodd\" fill-opacity=\"1\" /><path clip-path=\"url(#clip450)\" d=\"M145.992 752.646 Q142.381 752.646 140.552 756.211 Q138.746 759.753 138.746 766.882 Q138.746 773.989 140.552 777.554 Q142.381 781.095 145.992 781.095 Q149.626 781.095 151.431 777.554 Q153.26 773.989 153.26 766.882 Q153.26 759.753 151.431 756.211 Q149.626 752.646 145.992 752.646 M145.992 748.943 Q151.802 748.943 154.857 753.549 Q157.936 758.132 157.936 766.882 Q157.936 775.609 154.857 780.216 Q151.802 784.799 145.992 784.799 Q140.181 784.799 137.103 780.216 Q134.047 775.609 134.047 766.882 Q134.047 758.132 137.103 753.549 Q140.181 748.943 145.992 748.943 Z\" fill=\"#000000\" fill-rule=\"evenodd\" fill-opacity=\"1\" /><path clip-path=\"url(#clip450)\" d=\"M101.756 413.211 Q98.1447 413.211 96.316 416.775 Q94.5104 420.317 94.5104 427.447 Q94.5104 434.553 96.316 438.118 Q98.1447 441.66 101.756 441.66 Q105.39 441.66 107.196 438.118 Q109.024 434.553 109.024 427.447 Q109.024 420.317 107.196 416.775 Q105.39 413.211 101.756 413.211 M101.756 409.507 Q107.566 409.507 110.621 414.113 Q113.7 418.697 113.7 427.447 Q113.7 436.173 110.621 440.78 Q107.566 445.363 101.756 445.363 Q95.9456 445.363 92.8669 440.78 Q89.8114 436.173 89.8114 427.447 Q89.8114 418.697 92.8669 414.113 Q95.9456 409.507 101.756 409.507 Z\" fill=\"#000000\" fill-rule=\"evenodd\" fill-opacity=\"1\" /><path clip-path=\"url(#clip450)\" d=\"M121.918 438.812 L126.802 438.812 L126.802 444.692 L121.918 444.692 L121.918 438.812 Z\" fill=\"#000000\" fill-rule=\"evenodd\" fill-opacity=\"1\" /><path clip-path=\"url(#clip450)\" d=\"M137.033 410.132 L155.39 410.132 L155.39 414.067 L141.316 414.067 L141.316 422.539 Q142.334 422.192 143.353 422.03 Q144.371 421.845 145.39 421.845 Q151.177 421.845 154.556 425.016 Q157.936 428.187 157.936 433.604 Q157.936 439.183 154.464 442.285 Q150.992 445.363 144.672 445.363 Q142.496 445.363 140.228 444.993 Q137.982 444.622 135.575 443.882 L135.575 439.183 Q137.658 440.317 139.881 440.873 Q142.103 441.428 144.58 441.428 Q148.584 441.428 150.922 439.322 Q153.26 437.215 153.26 433.604 Q153.26 429.993 150.922 427.886 Q148.584 425.78 144.58 425.78 Q142.705 425.78 140.83 426.197 Q138.978 426.613 137.033 427.493 L137.033 410.132 Z\" fill=\"#000000\" fill-rule=\"evenodd\" fill-opacity=\"1\" /><path clip-path=\"url(#clip450)\" d=\"M91.5706 101.321 L99.2095 101.321 L99.2095 74.9555 L90.8993 76.6222 L90.8993 72.3629 L99.1632 70.6963 L103.839 70.6963 L103.839 101.321 L111.478 101.321 L111.478 105.256 L91.5706 105.256 L91.5706 101.321 Z\" fill=\"#000000\" fill-rule=\"evenodd\" fill-opacity=\"1\" /><path clip-path=\"url(#clip450)\" d=\"M120.922 99.3767 L125.807 99.3767 L125.807 105.256 L120.922 105.256 L120.922 99.3767 Z\" fill=\"#000000\" fill-rule=\"evenodd\" fill-opacity=\"1\" /><path clip-path=\"url(#clip450)\" d=\"M145.992 73.775 Q142.381 73.775 140.552 77.3398 Q138.746 80.8814 138.746 88.011 Q138.746 95.1174 140.552 98.6822 Q142.381 102.224 145.992 102.224 Q149.626 102.224 151.431 98.6822 Q153.26 95.1174 153.26 88.011 Q153.26 80.8814 151.431 77.3398 Q149.626 73.775 145.992 73.775 M145.992 70.0713 Q151.802 70.0713 154.857 74.6777 Q157.936 79.261 157.936 88.011 Q157.936 96.7378 154.857 101.344 Q151.802 105.928 145.992 105.928 Q140.181 105.928 137.103 101.344 Q134.047 96.7378 134.047 88.011 Q134.047 79.261 137.103 74.6777 Q140.181 70.0713 145.992 70.0713 Z\" fill=\"#000000\" fill-rule=\"evenodd\" fill-opacity=\"1\" /><polyline clip-path=\"url(#clip452)\" style=\"stroke:#009af9; stroke-linecap:butt; stroke-linejoin:round; stroke-width:4; stroke-opacity:1; fill:none\" points=\"\n",
       "  255.035,87.9763 257.026,88.0275 259.016,88.1811 261.007,88.4372 262.998,88.7956 264.989,89.2563 266.98,89.8193 268.971,90.4844 270.961,91.2516 272.952,92.1207 \n",
       "  274.943,93.0917 276.934,94.1643 278.925,95.3384 280.916,96.6138 282.906,97.9904 284.897,99.4678 286.888,101.046 288.879,102.725 290.87,104.504 292.861,106.382 \n",
       "  294.851,108.361 296.842,110.439 298.833,112.615 300.824,114.891 302.815,117.265 304.806,119.737 306.796,122.307 308.787,124.973 310.778,127.737 312.769,130.597 \n",
       "  314.76,133.554 316.751,136.605 318.741,139.752 320.732,142.993 322.723,146.329 324.714,149.758 326.705,153.281 328.696,156.895 330.686,160.602 332.677,164.401 \n",
       "  334.668,168.29 336.659,172.27 338.65,176.339 340.641,180.498 342.631,184.745 344.622,189.079 346.613,193.501 348.604,198.01 350.595,202.604 352.586,207.283 \n",
       "  354.576,212.047 356.567,216.895 358.558,221.825 360.549,226.838 362.54,231.932 364.531,237.107 366.521,242.362 368.512,247.696 370.503,253.109 372.494,258.599 \n",
       "  374.485,264.165 376.476,269.808 378.466,275.525 380.457,281.317 382.448,287.182 384.439,293.119 386.43,299.128 388.421,305.207 390.411,311.356 392.402,317.574 \n",
       "  394.393,323.859 396.384,330.211 398.375,336.63 400.366,343.113 402.356,349.66 404.347,356.27 406.338,362.942 408.329,369.675 410.32,376.467 412.311,383.319 \n",
       "  414.301,390.229 416.292,397.195 418.283,404.217 420.274,411.294 422.265,418.425 424.256,425.608 426.246,432.843 428.237,440.128 430.228,447.462 432.219,454.845 \n",
       "  434.21,462.274 436.201,469.75 438.191,477.27 440.182,484.834 442.173,492.441 444.164,500.089 446.155,507.777 448.146,515.505 450.136,523.27 452.127,531.072 \n",
       "  454.118,538.91 456.109,546.782 458.1,554.687 460.091,562.624 462.081,570.592 464.072,578.59 466.063,586.616 468.054,594.669 470.045,602.749 472.036,610.853 \n",
       "  474.026,618.98 476.017,627.13 478.008,635.301 479.999,643.492 481.99,651.701 483.981,659.928 485.971,668.171 487.962,676.429 489.953,684.7 491.944,692.984 \n",
       "  493.935,701.279 495.926,709.584 497.916,717.898 499.907,726.219 501.898,734.546 503.889,742.878 505.88,751.213 507.871,759.551 509.861,767.89 511.852,776.229 \n",
       "  513.843,784.566 515.834,792.901 517.825,801.232 519.816,809.557 521.806,817.877 523.797,826.188 525.788,834.491 527.779,842.783 529.77,851.064 531.761,859.332 \n",
       "  533.751,867.586 535.742,875.825 537.733,884.048 539.724,892.253 541.715,900.439 543.706,908.605 545.696,916.749 547.687,924.871 549.678,932.969 551.669,941.042 \n",
       "  553.66,949.088 555.651,957.107 557.641,965.098 559.632,973.058 561.623,980.988 563.614,988.885 565.605,996.748 567.596,1004.58 569.586,1012.37 571.577,1020.13 \n",
       "  573.568,1027.84 575.559,1035.52 577.55,1043.16 579.541,1050.76 581.531,1058.31 583.522,1065.82 585.513,1073.28 587.504,1080.7 589.495,1088.07 591.486,1095.39 \n",
       "  593.476,1102.67 595.467,1109.89 597.458,1117.06 599.449,1124.18 601.44,1131.24 603.431,1138.25 605.421,1145.2 607.412,1152.09 609.403,1158.93 611.394,1165.71 \n",
       "  613.385,1172.43 615.376,1179.08 617.366,1185.68 619.357,1192.21 621.348,1198.68 623.339,1205.08 625.33,1211.41 627.321,1217.68 629.311,1223.88 631.302,1230.01 \n",
       "  633.293,1236.08 635.284,1242.07 637.275,1247.99 639.266,1253.83 641.256,1259.61 643.247,1265.3 645.238,1270.93 647.229,1276.48 649.22,1281.95 651.211,1287.34 \n",
       "  653.201,1292.65 655.192,1297.89 657.183,1303.04 659.174,1308.12 661.165,1313.11 663.156,1318.02 665.146,1322.85 667.137,1327.59 669.128,1332.25 671.119,1336.82 \n",
       "  673.11,1341.31 675.101,1345.71 677.091,1350.02 679.082,1354.25 681.073,1358.38 683.064,1362.43 685.055,1366.39 687.046,1370.25 689.036,1374.03 691.027,1377.71 \n",
       "  693.018,1381.3 695.009,1384.8 697,1388.21 698.991,1391.52 700.981,1394.74 702.972,1397.86 704.963,1400.89 706.954,1403.82 708.945,1406.66 710.936,1409.4 \n",
       "  712.926,1412.04 714.917,1414.59 716.908,1417.03 718.899,1419.38 720.89,1421.63 722.881,1423.79 724.871,1425.84 726.862,1427.79 728.853,1429.65 730.844,1431.4 \n",
       "  732.835,1433.05 734.826,1434.61 736.816,1436.06 738.807,1437.41 740.798,1438.66 742.789,1439.81 744.78,1440.86 746.771,1441.8 748.761,1442.64 750.752,1443.39 \n",
       "  752.743,1444.03 754.734,1444.56 756.725,1445 758.716,1445.33 760.706,1445.56 762.697,1445.69 764.688,1445.72 766.679,1445.64 768.67,1445.46 770.661,1445.18 \n",
       "  772.651,1444.79 774.642,1444.31 776.633,1443.72 778.624,1443.03 780.615,1442.24 782.606,1441.34 784.596,1440.34 786.587,1439.25 788.578,1438.05 790.569,1436.75 \n",
       "  792.56,1435.34 794.551,1433.84 796.541,1432.24 798.532,1430.54 800.523,1428.73 802.514,1426.83 804.505,1424.82 806.496,1422.72 808.486,1420.52 810.477,1418.22 \n",
       "  812.468,1415.82 814.459,1413.32 816.45,1410.73 818.441,1408.04 820.431,1405.25 822.422,1402.37 824.413,1399.39 826.404,1396.31 828.395,1393.14 830.386,1389.88 \n",
       "  832.376,1386.52 834.367,1383.07 836.358,1379.52 838.349,1375.88 840.34,1372.15 842.331,1368.33 844.321,1364.42 846.312,1360.42 848.303,1356.32 850.294,1352.14 \n",
       "  852.285,1347.88 854.276,1343.52 856.266,1339.07 858.257,1334.54 860.248,1329.93 862.239,1325.23 864.23,1320.44 866.221,1315.58 868.211,1310.62 870.202,1305.59 \n",
       "  872.193,1300.48 874.184,1295.28 876.175,1290.01 878.166,1284.65 880.156,1279.22 882.147,1273.71 884.138,1268.13 886.129,1262.46 888.12,1256.73 890.111,1250.92 \n",
       "  892.101,1245.04 894.092,1239.08 896.083,1233.05 898.074,1226.96 900.065,1220.79 902.056,1214.56 904.046,1208.25 906.037,1201.89 908.028,1195.45 910.019,1188.95 \n",
       "  912.01,1182.39 914.001,1175.76 915.991,1169.08 917.982,1162.33 919.973,1155.52 921.964,1148.65 923.955,1141.73 925.946,1134.75 927.936,1127.71 929.927,1120.62 \n",
       "  931.918,1113.48 933.909,1106.28 935.9,1099.04 937.891,1091.74 939.881,1084.39 941.872,1077 943.863,1069.56 945.854,1062.07 947.845,1054.54 949.836,1046.96 \n",
       "  951.826,1039.35 953.817,1031.69 955.808,1023.99 957.799,1016.25 959.79,1008.48 961.781,1000.67 963.771,992.821 965.762,984.94 967.753,977.027 969.744,969.082 \n",
       "  971.735,961.106 973.726,953.101 975.716,945.068 977.707,937.008 979.698,928.923 981.689,920.813 983.68,912.68 985.671,904.524 987.661,896.348 989.652,888.153 \n",
       "  991.643,879.939 993.634,871.708 995.625,863.461 997.616,855.2 999.606,846.925 1001.6,838.638 1003.59,830.341 1005.58,822.033 1007.57,813.718 1009.56,805.395 \n",
       "  1011.55,797.067 1013.54,788.734 1015.53,780.398 1017.52,772.06 1019.51,763.72 1021.51,755.382 1023.5,747.045 1025.49,738.711 1027.48,730.381 1029.47,722.057 \n",
       "  1031.46,713.74 1033.45,705.43 1035.44,697.13 1037.43,688.841 1039.42,680.563 1041.41,672.298 1043.4,664.048 1045.4,655.813 1047.39,647.594 1049.38,639.394 \n",
       "  1051.37,631.213 1053.36,623.052 1055.35,614.914 1057.34,606.798 1059.33,598.706 1061.32,590.639 1063.31,582.6 1065.3,574.587 1067.29,566.604 1069.29,558.652 \n",
       "  1071.28,550.73 1073.27,542.841 1075.26,534.986 1077.25,527.166 1079.24,519.383 1081.23,511.636 1083.22,503.928 1085.21,496.26 1087.2,488.632 1089.19,481.047 \n",
       "  1091.18,473.504 1093.18,466.006 1095.17,458.554 1097.16,451.147 1099.15,443.789 1101.14,436.479 1103.13,429.219 1105.12,422.01 1107.11,414.853 1109.1,407.749 \n",
       "  1111.09,400.699 1113.08,393.705 1115.07,386.767 1117.07,379.886 1119.06,373.064 1121.05,366.301 1123.04,359.598 1125.03,352.957 1127.02,346.378 1129.01,339.863 \n",
       "  1131,333.412 1132.99,327.027 1134.98,320.708 1136.97,314.456 1138.96,308.273 1140.96,302.159 1142.95,296.114 1144.94,290.141 1146.93,284.24 1148.92,278.412 \n",
       "  1150.91,272.657 1152.9,266.977 1154.89,261.373 1156.88,255.844 1158.87,250.393 1160.86,245.02 1162.85,239.725 1164.85,234.51 1166.84,229.375 1168.83,224.322 \n",
       "  1170.82,219.35 1172.81,214.461 1174.8,209.655 1176.79,204.933 1178.78,200.296 1180.77,195.745 1182.76,191.279 1184.75,186.901 1186.74,182.61 1188.74,178.407 \n",
       "  1190.73,174.293 1192.72,170.269 1194.71,166.334 1196.7,162.49 1198.69,158.737 1200.68,155.077 1202.67,151.508 1204.66,148.032 1206.65,144.65 1208.64,141.361 \n",
       "  1210.63,138.167 1212.63,135.067 1214.62,132.063 1216.61,129.155 1218.6,126.343 1220.59,123.628 1222.58,121.01 1224.57,118.489 1226.56,116.066 1228.55,113.741 \n",
       "  1230.54,111.515 1232.53,109.387 1234.52,107.359 1236.52,105.43 1238.51,103.602 1240.5,101.873 1242.49,100.244 1244.48,98.7165 1246.47,97.2895 1248.46,95.9634 \n",
       "  1250.45,94.7387 1252.44,93.6153 1254.43,92.5935 1256.42,91.6734 1258.41,90.8553 1260.41,90.1391 1262.4,89.525 1264.39,89.0132 1266.38,88.6036 1268.37,88.2964 \n",
       "  1270.36,88.0915 1272.35,87.9891 1274.34,87.9891 1276.33,88.0915 1278.32,88.2964 1280.31,88.6036 1282.3,89.0132 1284.3,89.525 1286.29,90.1391 1288.28,90.8553 \n",
       "  1290.27,91.6734 1292.26,92.5935 1294.25,93.6153 1296.24,94.7387 1298.23,95.9634 1300.22,97.2895 1302.21,98.7165 1304.2,100.244 1306.19,101.873 1308.19,103.602 \n",
       "  1310.18,105.43 1312.17,107.359 1314.16,109.387 1316.15,111.515 1318.14,113.741 1320.13,116.066 1322.12,118.489 1324.11,121.01 1326.1,123.628 1328.09,126.343 \n",
       "  1330.08,129.155 1332.08,132.063 1334.07,135.067 1336.06,138.167 1338.05,141.361 1340.04,144.65 1342.03,148.032 1344.02,151.508 1346.01,155.077 1348,158.737 \n",
       "  1349.99,162.49 1351.98,166.334 1353.97,170.269 1355.97,174.293 1357.96,178.407 1359.95,182.61 1361.94,186.901 1363.93,191.279 1365.92,195.745 1367.91,200.296 \n",
       "  1369.9,204.933 1371.89,209.655 1373.88,214.461 1375.87,219.35 1377.86,224.322 1379.86,229.375 1381.85,234.51 1383.84,239.725 1385.83,245.02 1387.82,250.393 \n",
       "  1389.81,255.844 1391.8,261.373 1393.79,266.977 1395.78,272.657 1397.77,278.412 1399.76,284.24 1401.75,290.141 1403.75,296.114 1405.74,302.159 1407.73,308.273 \n",
       "  1409.72,314.456 1411.71,320.708 1413.7,327.027 1415.69,333.412 1417.68,339.863 1419.67,346.378 1421.66,352.957 1423.65,359.598 1425.64,366.301 1427.64,373.064 \n",
       "  1429.63,379.886 1431.62,386.767 1433.61,393.705 1435.6,400.699 1437.59,407.749 1439.58,414.853 1441.57,422.01 1443.56,429.219 1445.55,436.479 1447.54,443.789 \n",
       "  1449.53,451.147 1451.53,458.554 1453.52,466.006 1455.51,473.504 1457.5,481.047 1459.49,488.632 1461.48,496.26 1463.47,503.928 1465.46,511.636 1467.45,519.383 \n",
       "  1469.44,527.166 1471.43,534.986 1473.42,542.841 1475.42,550.73 1477.41,558.652 1479.4,566.604 1481.39,574.587 1483.38,582.6 1485.37,590.639 1487.36,598.706 \n",
       "  1489.35,606.798 1491.34,614.914 1493.33,623.052 1495.32,631.213 1497.31,639.394 1499.31,647.594 1501.3,655.813 1503.29,664.048 1505.28,672.298 1507.27,680.563 \n",
       "  1509.26,688.841 1511.25,697.13 1513.24,705.43 1515.23,713.74 1517.22,722.057 1519.21,730.381 1521.2,738.711 1523.2,747.045 1525.19,755.382 1527.18,763.72 \n",
       "  1529.17,772.06 1531.16,780.398 1533.15,788.734 1535.14,797.067 1537.13,805.395 1539.12,813.718 1541.11,822.033 1543.1,830.341 1545.09,838.638 1547.09,846.925 \n",
       "  1549.08,855.2 1551.07,863.461 1553.06,871.708 1555.05,879.939 1557.04,888.153 1559.03,896.348 1561.02,904.524 1563.01,912.68 1565,920.813 1566.99,928.923 \n",
       "  1568.98,937.008 1570.98,945.068 1572.97,953.101 1574.96,961.106 1576.95,969.082 1578.94,977.027 1580.93,984.94 1582.92,992.821 1584.91,1000.67 1586.9,1008.48 \n",
       "  1588.89,1016.25 1590.88,1023.99 1592.87,1031.69 1594.87,1039.35 1596.86,1046.96 1598.85,1054.54 1600.84,1062.07 1602.83,1069.56 1604.82,1077 1606.81,1084.39 \n",
       "  1608.8,1091.74 1610.79,1099.04 1612.78,1106.28 1614.77,1113.48 1616.76,1120.62 1618.76,1127.71 1620.75,1134.75 1622.74,1141.73 1624.73,1148.65 1626.72,1155.52 \n",
       "  1628.71,1162.33 1630.7,1169.08 1632.69,1175.76 1634.68,1182.39 1636.67,1188.95 1638.66,1195.45 1640.65,1201.89 1642.65,1208.25 1644.64,1214.56 1646.63,1220.79 \n",
       "  1648.62,1226.96 1650.61,1233.05 1652.6,1239.08 1654.59,1245.04 1656.58,1250.92 1658.57,1256.73 1660.56,1262.46 1662.55,1268.13 1664.54,1273.71 1666.54,1279.22 \n",
       "  1668.53,1284.65 1670.52,1290.01 1672.51,1295.28 1674.5,1300.48 1676.49,1305.59 1678.48,1310.62 1680.47,1315.58 1682.46,1320.44 1684.45,1325.23 1686.44,1329.93 \n",
       "  1688.43,1334.54 1690.43,1339.07 1692.42,1343.52 1694.41,1347.88 1696.4,1352.14 1698.39,1356.32 1700.38,1360.42 1702.37,1364.42 1704.36,1368.33 1706.35,1372.15 \n",
       "  1708.34,1375.88 1710.33,1379.52 1712.32,1383.07 1714.32,1386.52 1716.31,1389.88 1718.3,1393.14 1720.29,1396.31 1722.28,1399.39 1724.27,1402.37 1726.26,1405.25 \n",
       "  1728.25,1408.04 1730.24,1410.73 1732.23,1413.32 1734.22,1415.82 1736.21,1418.22 1738.21,1420.52 1740.2,1422.72 1742.19,1424.82 1744.18,1426.83 1746.17,1428.73 \n",
       "  1748.16,1430.54 1750.15,1432.24 1752.14,1433.84 1754.13,1435.34 1756.12,1436.75 1758.11,1438.05 1760.1,1439.25 1762.1,1440.34 1764.09,1441.34 1766.08,1442.24 \n",
       "  1768.07,1443.03 1770.06,1443.72 1772.05,1444.31 1774.04,1444.79 1776.03,1445.18 1778.02,1445.46 1780.01,1445.64 1782,1445.72 1783.99,1445.69 1785.99,1445.56 \n",
       "  1787.98,1445.33 1789.97,1445 1791.96,1444.56 1793.95,1444.03 1795.94,1443.39 1797.93,1442.64 1799.92,1441.8 1801.91,1440.86 1803.9,1439.81 1805.89,1438.66 \n",
       "  1807.88,1437.41 1809.88,1436.06 1811.87,1434.61 1813.86,1433.05 1815.85,1431.4 1817.84,1429.65 1819.83,1427.79 1821.82,1425.84 1823.81,1423.79 1825.8,1421.63 \n",
       "  1827.79,1419.38 1829.78,1417.03 1831.77,1414.59 1833.77,1412.04 1835.76,1409.4 1837.75,1406.66 1839.74,1403.82 1841.73,1400.89 1843.72,1397.86 1845.71,1394.74 \n",
       "  1847.7,1391.52 1849.69,1388.21 1851.68,1384.8 1853.67,1381.3 1855.66,1377.71 1857.66,1374.03 1859.65,1370.25 1861.64,1366.39 1863.63,1362.43 1865.62,1358.38 \n",
       "  1867.61,1354.25 1869.6,1350.02 1871.59,1345.71 1873.58,1341.31 1875.57,1336.82 1877.56,1332.25 1879.55,1327.59 1881.55,1322.85 1883.54,1318.02 1885.53,1313.11 \n",
       "  1887.52,1308.12 1889.51,1303.04 1891.5,1297.89 1893.49,1292.65 1895.48,1287.34 1897.47,1281.95 1899.46,1276.48 1901.45,1270.93 1903.44,1265.3 1905.44,1259.61 \n",
       "  1907.43,1253.83 1909.42,1247.99 1911.41,1242.07 1913.4,1236.08 1915.39,1230.01 1917.38,1223.88 1919.37,1217.68 1921.36,1211.41 1923.35,1205.08 1925.34,1198.68 \n",
       "  1927.33,1192.21 1929.33,1185.68 1931.32,1179.08 1933.31,1172.43 1935.3,1165.71 1937.29,1158.93 1939.28,1152.09 1941.27,1145.2 1943.26,1138.25 1945.25,1131.24 \n",
       "  1947.24,1124.18 1949.23,1117.06 1951.22,1109.89 1953.22,1102.67 1955.21,1095.39 1957.2,1088.07 1959.19,1080.7 1961.18,1073.28 1963.17,1065.82 1965.16,1058.31 \n",
       "  1967.15,1050.76 1969.14,1043.16 1971.13,1035.52 1973.12,1027.84 1975.11,1020.13 1977.11,1012.37 1979.1,1004.58 1981.09,996.748 1983.08,988.885 1985.07,980.988 \n",
       "  1987.06,973.058 1989.05,965.098 1991.04,957.107 1993.03,949.088 1995.02,941.042 1997.01,932.969 1999,924.871 2001,916.749 2002.99,908.605 2004.98,900.439 \n",
       "  2006.97,892.253 2008.96,884.048 2010.95,875.825 2012.94,867.586 2014.93,859.332 2016.92,851.064 2018.91,842.783 2020.9,834.491 2022.89,826.188 2024.89,817.877 \n",
       "  2026.88,809.557 2028.87,801.232 2030.86,792.901 2032.85,784.566 2034.84,776.229 2036.83,767.89 2038.82,759.551 2040.81,751.213 2042.8,742.878 2044.79,734.546 \n",
       "  2046.78,726.219 2048.78,717.898 2050.77,709.584 2052.76,701.279 2054.75,692.984 2056.74,684.7 2058.73,676.429 2060.72,668.171 2062.71,659.928 2064.7,651.701 \n",
       "  2066.69,643.492 2068.68,635.301 2070.67,627.13 2072.67,618.98 2074.66,610.853 2076.65,602.749 2078.64,594.669 2080.63,586.616 2082.62,578.59 2084.61,570.592 \n",
       "  2086.6,562.624 2088.59,554.687 2090.58,546.782 2092.57,538.91 2094.56,531.072 2096.56,523.27 2098.55,515.505 2100.54,507.777 2102.53,500.089 2104.52,492.441 \n",
       "  2106.51,484.834 2108.5,477.27 2110.49,469.75 2112.48,462.274 2114.47,454.845 2116.46,447.462 2118.45,440.128 2120.45,432.843 2122.44,425.608 2124.43,418.425 \n",
       "  2126.42,411.294 2128.41,404.217 2130.4,397.195 2132.39,390.229 2134.38,383.319 2136.37,376.467 2138.36,369.675 2140.35,362.942 2142.34,356.27 2144.34,349.66 \n",
       "  2146.33,343.113 2148.32,336.63 2150.31,330.211 2152.3,323.859 2154.29,317.574 2156.28,311.356 2158.27,305.207 2160.26,299.128 2162.25,293.119 2164.24,287.182 \n",
       "  2166.23,281.317 2168.23,275.525 2170.22,269.808 2172.21,264.165 2174.2,258.599 2176.19,253.109 2178.18,247.696 2180.17,242.362 2182.16,237.107 2184.15,231.932 \n",
       "  2186.14,226.838 2188.13,221.825 2190.12,216.895 2192.12,212.047 2194.11,207.283 2196.1,202.604 2198.09,198.01 2200.08,193.501 2202.07,189.079 2204.06,184.745 \n",
       "  2206.05,180.498 2208.04,176.339 2210.03,172.27 2212.02,168.29 2214.01,164.401 2216.01,160.602 2218,156.895 2219.99,153.281 2221.98,149.758 2223.97,146.329 \n",
       "  2225.96,142.993 2227.95,139.752 2229.94,136.605 2231.93,133.554 2233.92,130.597 2235.91,127.737 2237.9,124.973 2239.9,122.307 2241.89,119.737 2243.88,117.265 \n",
       "  2245.87,114.891 2247.86,112.615 2249.85,110.439 2251.84,108.361 2253.83,106.382 2255.82,104.504 2257.81,102.725 2259.8,101.046 2261.79,99.4678 2263.79,97.9904 \n",
       "  2265.78,96.6138 2267.77,95.3384 2269.76,94.1643 2271.75,93.0917 2273.74,92.1207 2275.73,91.2516 2277.72,90.4844 2279.71,89.8193 2281.7,89.2563 2283.69,88.7956 \n",
       "  2285.68,88.4372 2287.68,88.1811 2289.67,88.0275 2291.66,87.9763 \n",
       "  \"/>\n",
       "<path clip-path=\"url(#clip450)\" d=\"\n",
       "M1988.5 198.898 L2280.8 198.898 L2280.8 95.2176 L1988.5 95.2176  Z\n",
       "  \" fill=\"#ffffff\" fill-rule=\"evenodd\" fill-opacity=\"1\"/>\n",
       "<polyline clip-path=\"url(#clip450)\" style=\"stroke:#000000; stroke-linecap:butt; stroke-linejoin:round; stroke-width:4; stroke-opacity:1; fill:none\" points=\"\n",
       "  1988.5,198.898 2280.8,198.898 2280.8,95.2176 1988.5,95.2176 1988.5,198.898 \n",
       "  \"/>\n",
       "<polyline clip-path=\"url(#clip450)\" style=\"stroke:#009af9; stroke-linecap:butt; stroke-linejoin:round; stroke-width:4; stroke-opacity:1; fill:none\" points=\"\n",
       "  2012.48,147.058 2156.4,147.058 \n",
       "  \"/>\n",
       "<path clip-path=\"url(#clip450)\" d=\"M2194.23 166.745 Q2192.43 171.375 2190.72 172.787 Q2189 174.199 2186.13 174.199 L2182.73 174.199 L2182.73 170.634 L2185.23 170.634 Q2186.99 170.634 2187.96 169.8 Q2188.93 168.967 2190.11 165.865 L2190.88 163.921 L2180.39 138.412 L2184.91 138.412 L2193.01 158.689 L2201.11 138.412 L2205.62 138.412 L2194.23 166.745 Z\" fill=\"#000000\" fill-rule=\"evenodd\" fill-opacity=\"1\" /><path clip-path=\"url(#clip450)\" d=\"M2212.91 160.402 L2220.55 160.402 L2220.55 134.037 L2212.24 135.703 L2212.24 131.444 L2220.51 129.778 L2225.18 129.778 L2225.18 160.402 L2232.82 160.402 L2232.82 164.338 L2212.91 164.338 L2212.91 160.402 Z\" fill=\"#000000\" fill-rule=\"evenodd\" fill-opacity=\"1\" /></svg>\n"
      ]
     },
     "execution_count": 14,
     "metadata": {},
     "output_type": "execute_result"
    }
   ],
   "source": [
    "using Plots\n",
    "x = LinRange(-2π, 2π, 1024)\n",
    "y = cos.(x)\n",
    "plot(x, y)"
   ]
  },
  {
   "cell_type": "markdown",
   "id": "d44d3265",
   "metadata": {},
   "source": [
    "Timing code via `@time`"
   ]
  },
  {
   "cell_type": "code",
   "execution_count": 15,
   "id": "871d9362",
   "metadata": {},
   "outputs": [
    {
     "name": "stdout",
     "output_type": "stream",
     "text": [
      "  0.000022 seconds (1 allocation: 7.188 KiB)\n"
     ]
    }
   ],
   "source": [
    "@time rand(30, 30);"
   ]
  },
  {
   "cell_type": "markdown",
   "id": "078c7003",
   "metadata": {},
   "source": [
    "Wanted to compare it with generating a same size of a similar matrix with python. Julia is ~10 times faster for this specific comparison"
   ]
  },
  {
   "cell_type": "code",
   "execution_count": 22,
   "id": "498a045b",
   "metadata": {},
   "outputs": [
    {
     "name": "stdout",
     "output_type": "stream",
     "text": [
      "CPU times: user 148 µs, sys: 50 µs, total: 198 µs\n",
      "Wall time: 107 µs\n"
     ]
    }
   ],
   "source": [
    "; ipython rand.ipy"
   ]
  },
  {
   "cell_type": "markdown",
   "id": "d0993f0a",
   "metadata": {},
   "source": [
    "Just to show what rand.ipy contains:"
   ]
  },
  {
   "cell_type": "code",
   "execution_count": 17,
   "id": "d9e159bd",
   "metadata": {},
   "outputs": [
    {
     "name": "stdout",
     "output_type": "stream",
     "text": [
      "import numpy as np\n",
      "\n",
      "%time np.random.random((30, 30))\n"
     ]
    }
   ],
   "source": [
    "; cat rand.ipy"
   ]
  },
  {
   "cell_type": "markdown",
   "id": "b32236d1",
   "metadata": {},
   "source": [
    "Can show docs via `@doc`"
   ]
  },
  {
   "cell_type": "code",
   "execution_count": 31,
   "id": "7fd83884",
   "metadata": {},
   "outputs": [
    {
     "data": {
      "text/latex": [
       "\\begin{verbatim}\n",
       "LinRange{T}\n",
       "\\end{verbatim}\n",
       "A range with \\texttt{len} linearly spaced elements between its \\texttt{start} and \\texttt{stop}. The size of the spacing is controlled by \\texttt{len}, which must be an \\texttt{Int}.\n",
       "\n",
       "\\section{Examples}\n",
       "\\begin{verbatim}\n",
       "julia> LinRange(1.5, 5.5, 9)\n",
       "9-element LinRange{Float64}:\n",
       " 1.5,2.0,2.5,3.0,3.5,4.0,4.5,5.0,5.5\n",
       "\\end{verbatim}\n",
       "Compared to using \\href{@ref}{\\texttt{range}}, directly constructing a \\texttt{LinRange} should have less overhead but won't try to correct for floating point errors:\n",
       "\n",
       "\\begin{verbatim}\n",
       "julia> collect(range(-0.1, 0.3, length=5))\n",
       "5-element Array{Float64,1}:\n",
       " -0.1\n",
       "  0.0\n",
       "  0.1\n",
       "  0.2\n",
       "  0.3\n",
       "\n",
       "julia> collect(LinRange(-0.1, 0.3, 5))\n",
       "5-element Array{Float64,1}:\n",
       " -0.1\n",
       " -1.3877787807814457e-17\n",
       "  0.09999999999999999\n",
       "  0.19999999999999998\n",
       "  0.3\n",
       "\\end{verbatim}\n"
      ],
      "text/markdown": [
       "```\n",
       "LinRange{T}\n",
       "```\n",
       "\n",
       "A range with `len` linearly spaced elements between its `start` and `stop`. The size of the spacing is controlled by `len`, which must be an `Int`.\n",
       "\n",
       "# Examples\n",
       "\n",
       "```jldoctest\n",
       "julia> LinRange(1.5, 5.5, 9)\n",
       "9-element LinRange{Float64}:\n",
       " 1.5,2.0,2.5,3.0,3.5,4.0,4.5,5.0,5.5\n",
       "```\n",
       "\n",
       "Compared to using [`range`](@ref), directly constructing a `LinRange` should have less overhead but won't try to correct for floating point errors:\n",
       "\n",
       "```julia\n",
       "julia> collect(range(-0.1, 0.3, length=5))\n",
       "5-element Array{Float64,1}:\n",
       " -0.1\n",
       "  0.0\n",
       "  0.1\n",
       "  0.2\n",
       "  0.3\n",
       "\n",
       "julia> collect(LinRange(-0.1, 0.3, 5))\n",
       "5-element Array{Float64,1}:\n",
       " -0.1\n",
       " -1.3877787807814457e-17\n",
       "  0.09999999999999999\n",
       "  0.19999999999999998\n",
       "  0.3\n",
       "```\n"
      ],
      "text/plain": [
       "\u001b[36m  LinRange{T}\u001b[39m\n",
       "\n",
       "  A range with \u001b[36mlen\u001b[39m linearly spaced elements between its \u001b[36mstart\u001b[39m and \u001b[36mstop\u001b[39m. The\n",
       "  size of the spacing is controlled by \u001b[36mlen\u001b[39m, which must be an \u001b[36mInt\u001b[39m.\n",
       "\n",
       "\u001b[1m  Examples\u001b[22m\n",
       "\u001b[1m  ≡≡≡≡≡≡≡≡≡≡\u001b[22m\n",
       "\n",
       "\u001b[36m  julia> LinRange(1.5, 5.5, 9)\u001b[39m\n",
       "\u001b[36m  9-element LinRange{Float64}:\u001b[39m\n",
       "\u001b[36m   1.5,2.0,2.5,3.0,3.5,4.0,4.5,5.0,5.5\u001b[39m\n",
       "\n",
       "  Compared to using \u001b[36mrange\u001b[39m, directly constructing a \u001b[36mLinRange\u001b[39m should have less\n",
       "  overhead but won't try to correct for floating point errors:\n",
       "\n",
       "\u001b[36m  julia> collect(range(-0.1, 0.3, length=5))\u001b[39m\n",
       "\u001b[36m  5-element Array{Float64,1}:\u001b[39m\n",
       "\u001b[36m   -0.1\u001b[39m\n",
       "\u001b[36m    0.0\u001b[39m\n",
       "\u001b[36m    0.1\u001b[39m\n",
       "\u001b[36m    0.2\u001b[39m\n",
       "\u001b[36m    0.3\u001b[39m\n",
       "\u001b[36m  \u001b[39m\n",
       "\u001b[36m  julia> collect(LinRange(-0.1, 0.3, 5))\u001b[39m\n",
       "\u001b[36m  5-element Array{Float64,1}:\u001b[39m\n",
       "\u001b[36m   -0.1\u001b[39m\n",
       "\u001b[36m   -1.3877787807814457e-17\u001b[39m\n",
       "\u001b[36m    0.09999999999999999\u001b[39m\n",
       "\u001b[36m    0.19999999999999998\u001b[39m\n",
       "\u001b[36m    0.3\u001b[39m"
      ]
     },
     "execution_count": 31,
     "metadata": {},
     "output_type": "execute_result"
    }
   ],
   "source": [
    "@doc LinRange(-2π, 2π, 1024)"
   ]
  },
  {
   "cell_type": "code",
   "execution_count": null,
   "id": "db020427",
   "metadata": {},
   "outputs": [],
   "source": []
  }
 ],
 "metadata": {
  "kernelspec": {
   "display_name": "Julia 1.6.1",
   "language": "julia",
   "name": "julia-1.6"
  },
  "language_info": {
   "file_extension": ".jl",
   "mimetype": "application/julia",
   "name": "julia",
   "version": "1.6.1"
  }
 },
 "nbformat": 4,
 "nbformat_minor": 5
}
